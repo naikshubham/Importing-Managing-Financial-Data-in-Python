{
 "cells": [
  {
   "cell_type": "markdown",
   "metadata": {},
   "source": [
    "# Importing and Managing Financial Data in Python"
   ]
  },
  {
   "cell_type": "code",
   "execution_count": 2,
   "metadata": {},
   "outputs": [],
   "source": [
    "import pandas as pd"
   ]
  },
  {
   "cell_type": "code",
   "execution_count": 2,
   "metadata": {},
   "outputs": [],
   "source": [
    "amex = pd.read_csv('data/amex-listings.csv')"
   ]
  },
  {
   "cell_type": "code",
   "execution_count": 3,
   "metadata": {},
   "outputs": [
    {
     "name": "stdout",
     "output_type": "stream",
     "text": [
      "<class 'pandas.core.frame.DataFrame'>\n",
      "RangeIndex: 360 entries, 0 to 359\n",
      "Data columns (total 8 columns):\n",
      "Stock Symbol             360 non-null object\n",
      "Company Name             360 non-null object\n",
      "Last Sale                346 non-null float64\n",
      "Market Capitalization    360 non-null float64\n",
      "IPO Year                 105 non-null float64\n",
      "Sector                   238 non-null object\n",
      "Industry                 238 non-null object\n",
      "Last Update              360 non-null object\n",
      "dtypes: float64(3), object(5)\n",
      "memory usage: 22.6+ KB\n"
     ]
    }
   ],
   "source": [
    "amex.info()  # to inspect table structure & data types"
   ]
  },
  {
   "cell_type": "markdown",
   "metadata": {},
   "source": [
    "### Deal with missing values"
   ]
  },
  {
   "cell_type": "code",
   "execution_count": 6,
   "metadata": {},
   "outputs": [],
   "source": [
    "amex = pd.read_csv('data/amex-listings.csv', na_values = 'n/a')"
   ]
  },
  {
   "cell_type": "code",
   "execution_count": 7,
   "metadata": {},
   "outputs": [
    {
     "name": "stdout",
     "output_type": "stream",
     "text": [
      "<class 'pandas.core.frame.DataFrame'>\n",
      "RangeIndex: 360 entries, 0 to 359\n",
      "Data columns (total 8 columns):\n",
      "Stock Symbol             360 non-null object\n",
      "Company Name             360 non-null object\n",
      "Last Sale                346 non-null float64\n",
      "Market Capitalization    360 non-null float64\n",
      "IPO Year                 105 non-null float64\n",
      "Sector                   238 non-null object\n",
      "Industry                 238 non-null object\n",
      "Last Update              360 non-null object\n",
      "dtypes: float64(3), object(5)\n",
      "memory usage: 22.6+ KB\n"
     ]
    }
   ],
   "source": [
    "amex.info()"
   ]
  },
  {
   "cell_type": "markdown",
   "metadata": {},
   "source": [
    "### Properly parse date"
   ]
  },
  {
   "cell_type": "code",
   "execution_count": 8,
   "metadata": {},
   "outputs": [],
   "source": [
    "amex = pd.read_csv('data/amex-listings.csv', na_values = 'n/a', parse_dates=['Last Update'])"
   ]
  },
  {
   "cell_type": "code",
   "execution_count": 10,
   "metadata": {},
   "outputs": [
    {
     "name": "stdout",
     "output_type": "stream",
     "text": [
      "<class 'pandas.core.frame.DataFrame'>\n",
      "RangeIndex: 360 entries, 0 to 359\n",
      "Data columns (total 8 columns):\n",
      "Stock Symbol             360 non-null object\n",
      "Company Name             360 non-null object\n",
      "Last Sale                346 non-null float64\n",
      "Market Capitalization    360 non-null float64\n",
      "IPO Year                 105 non-null float64\n",
      "Sector                   238 non-null object\n",
      "Industry                 238 non-null object\n",
      "Last Update              360 non-null datetime64[ns]\n",
      "dtypes: datetime64[ns](1), float64(3), object(4)\n",
      "memory usage: 22.6+ KB\n"
     ]
    }
   ],
   "source": [
    "amex.info()"
   ]
  },
  {
   "cell_type": "code",
   "execution_count": 12,
   "metadata": {},
   "outputs": [
    {
     "data": {
      "text/html": [
       "<div>\n",
       "<style scoped>\n",
       "    .dataframe tbody tr th:only-of-type {\n",
       "        vertical-align: middle;\n",
       "    }\n",
       "\n",
       "    .dataframe tbody tr th {\n",
       "        vertical-align: top;\n",
       "    }\n",
       "\n",
       "    .dataframe thead th {\n",
       "        text-align: right;\n",
       "    }\n",
       "</style>\n",
       "<table border=\"1\" class=\"dataframe\">\n",
       "  <thead>\n",
       "    <tr style=\"text-align: right;\">\n",
       "      <th></th>\n",
       "      <th>Stock Symbol</th>\n",
       "      <th>Company Name</th>\n",
       "      <th>Last Sale</th>\n",
       "      <th>Market Capitalization</th>\n",
       "      <th>IPO Year</th>\n",
       "      <th>Sector</th>\n",
       "      <th>Industry</th>\n",
       "      <th>Last Update</th>\n",
       "    </tr>\n",
       "  </thead>\n",
       "  <tbody>\n",
       "    <tr>\n",
       "      <th>0</th>\n",
       "      <td>XXII</td>\n",
       "      <td>22nd Century Group, Inc</td>\n",
       "      <td>1.3300</td>\n",
       "      <td>1.206285e+08</td>\n",
       "      <td>NaN</td>\n",
       "      <td>Consumer Non-Durables</td>\n",
       "      <td>Farming/Seeds/Milling</td>\n",
       "      <td>2017-04-26</td>\n",
       "    </tr>\n",
       "    <tr>\n",
       "      <th>1</th>\n",
       "      <td>FAX</td>\n",
       "      <td>Aberdeen Asia-Pacific Income Fund Inc</td>\n",
       "      <td>5.0000</td>\n",
       "      <td>1.266333e+09</td>\n",
       "      <td>1986.0</td>\n",
       "      <td>NaN</td>\n",
       "      <td>NaN</td>\n",
       "      <td>2017-04-25</td>\n",
       "    </tr>\n",
       "    <tr>\n",
       "      <th>2</th>\n",
       "      <td>IAF</td>\n",
       "      <td>Aberdeen Australia Equity Fund Inc</td>\n",
       "      <td>6.1500</td>\n",
       "      <td>1.398653e+08</td>\n",
       "      <td>NaN</td>\n",
       "      <td>NaN</td>\n",
       "      <td>NaN</td>\n",
       "      <td>2017-04-23</td>\n",
       "    </tr>\n",
       "    <tr>\n",
       "      <th>3</th>\n",
       "      <td>CH</td>\n",
       "      <td>Aberdeen Chile Fund, Inc.</td>\n",
       "      <td>7.2201</td>\n",
       "      <td>6.756346e+07</td>\n",
       "      <td>NaN</td>\n",
       "      <td>NaN</td>\n",
       "      <td>NaN</td>\n",
       "      <td>2017-04-26</td>\n",
       "    </tr>\n",
       "    <tr>\n",
       "      <th>4</th>\n",
       "      <td>ABE</td>\n",
       "      <td>Aberdeen Emerging Markets Smaller Company Oppo...</td>\n",
       "      <td>13.3600</td>\n",
       "      <td>1.288430e+08</td>\n",
       "      <td>NaN</td>\n",
       "      <td>NaN</td>\n",
       "      <td>NaN</td>\n",
       "      <td>2017-04-25</td>\n",
       "    </tr>\n",
       "  </tbody>\n",
       "</table>\n",
       "</div>"
      ],
      "text/plain": [
       "     Stock Symbol                                       Company Name  \\\n",
       "0            XXII                            22nd Century Group, Inc   \n",
       "1             FAX              Aberdeen Asia-Pacific Income Fund Inc   \n",
       "2             IAF                 Aberdeen Australia Equity Fund Inc   \n",
       "3              CH                          Aberdeen Chile Fund, Inc.   \n",
       "4  ABE             Aberdeen Emerging Markets Smaller Company Oppo...   \n",
       "\n",
       "   Last Sale  Market Capitalization  IPO Year                 Sector  \\\n",
       "0     1.3300           1.206285e+08       NaN  Consumer Non-Durables   \n",
       "1     5.0000           1.266333e+09    1986.0                    NaN   \n",
       "2     6.1500           1.398653e+08       NaN                    NaN   \n",
       "3     7.2201           6.756346e+07       NaN                    NaN   \n",
       "4    13.3600           1.288430e+08       NaN                    NaN   \n",
       "\n",
       "                Industry Last Update  \n",
       "0  Farming/Seeds/Milling  2017-04-26  \n",
       "1                    NaN  2017-04-25  \n",
       "2                    NaN  2017-04-23  \n",
       "3                    NaN  2017-04-26  \n",
       "4                    NaN  2017-04-25  "
      ]
     },
     "execution_count": 12,
     "metadata": {},
     "output_type": "execute_result"
    }
   ],
   "source": [
    "amex.head()"
   ]
  },
  {
   "cell_type": "markdown",
   "metadata": {},
   "source": [
    "### Import data from excel"
   ]
  },
  {
   "cell_type": "code",
   "execution_count": 3,
   "metadata": {},
   "outputs": [
    {
     "name": "stderr",
     "output_type": "stream",
     "text": [
      "C:\\Users\\Shubham\\Anaconda3\\lib\\site-packages\\pandas\\util\\_decorators.py:188: FutureWarning: The `sheetname` keyword is deprecated, use `sheet_name` instead\n",
      "  return func(*args, **kwargs)\n"
     ]
    }
   ],
   "source": [
    "amex = pd.read_excel('data/listings.xlsx', sheetname='amex', na_values='n/a')"
   ]
  },
  {
   "cell_type": "code",
   "execution_count": 4,
   "metadata": {},
   "outputs": [
    {
     "name": "stdout",
     "output_type": "stream",
     "text": [
      "<class 'pandas.core.frame.DataFrame'>\n",
      "RangeIndex: 360 entries, 0 to 359\n",
      "Data columns (total 7 columns):\n",
      "Stock Symbol             360 non-null object\n",
      "Company Name             360 non-null object\n",
      "Last Sale                346 non-null float64\n",
      "Market Capitalization    360 non-null float64\n",
      "IPO Year                 105 non-null float64\n",
      "Sector                   238 non-null object\n",
      "Industry                 238 non-null object\n",
      "dtypes: float64(3), object(4)\n",
      "memory usage: 19.8+ KB\n"
     ]
    }
   ],
   "source": [
    "amex.info()"
   ]
  },
  {
   "cell_type": "markdown",
   "metadata": {},
   "source": [
    "### Import data from two sheets"
   ]
  },
  {
   "cell_type": "code",
   "execution_count": 6,
   "metadata": {},
   "outputs": [],
   "source": [
    "listings = pd.read_excel('data/listings.xlsx', sheet_name=['amex', 'nasdaq'], na_values='n/a')"
   ]
  },
  {
   "cell_type": "markdown",
   "metadata": {},
   "source": [
    "### listings : dictionary\n",
    "- Keys : sheetnames\n",
    "- Values : DataFrame"
   ]
  },
  {
   "cell_type": "code",
   "execution_count": 7,
   "metadata": {},
   "outputs": [
    {
     "name": "stdout",
     "output_type": "stream",
     "text": [
      "<class 'pandas.core.frame.DataFrame'>\n",
      "RangeIndex: 3167 entries, 0 to 3166\n",
      "Data columns (total 7 columns):\n",
      "Stock Symbol             3167 non-null object\n",
      "Company Name             3167 non-null object\n",
      "Last Sale                3165 non-null float64\n",
      "Market Capitalization    3167 non-null float64\n",
      "IPO Year                 1386 non-null float64\n",
      "Sector                   2767 non-null object\n",
      "Industry                 2767 non-null object\n",
      "dtypes: float64(3), object(4)\n",
      "memory usage: 173.3+ KB\n"
     ]
    }
   ],
   "source": [
    "listings['nasdaq'].info()"
   ]
  },
  {
   "cell_type": "markdown",
   "metadata": {},
   "source": [
    "### Get sheet names"
   ]
  },
  {
   "cell_type": "code",
   "execution_count": 8,
   "metadata": {},
   "outputs": [],
   "source": [
    "xls = pd.ExcelFile('data/listings.xlsx')  # pd.ExcelFile object"
   ]
  },
  {
   "cell_type": "code",
   "execution_count": 10,
   "metadata": {},
   "outputs": [
    {
     "name": "stdout",
     "output_type": "stream",
     "text": [
      "['amex', 'nasdaq', 'nyse']\n"
     ]
    }
   ],
   "source": [
    "exchanges = xls.sheet_names\n",
    "print(exchanges)"
   ]
  },
  {
   "cell_type": "markdown",
   "metadata": {},
   "source": [
    "### Combine the data from multiple worksheets\n",
    "### Combine data frames"
   ]
  },
  {
   "cell_type": "code",
   "execution_count": 12,
   "metadata": {},
   "outputs": [],
   "source": [
    "amex = pd.read_excel('data/listings.xlsx', sheet_name='amex', na_values='n/a')"
   ]
  },
  {
   "cell_type": "code",
   "execution_count": 13,
   "metadata": {},
   "outputs": [],
   "source": [
    "nyse = pd.read_excel('data/listings.xlsx', sheet_name='nyse', na_values='n/a')"
   ]
  },
  {
   "cell_type": "code",
   "execution_count": 14,
   "metadata": {},
   "outputs": [
    {
     "name": "stdout",
     "output_type": "stream",
     "text": [
      "<class 'pandas.core.frame.DataFrame'>\n",
      "Int64Index: 3507 entries, 0 to 3146\n",
      "Data columns (total 7 columns):\n",
      "Stock Symbol             3507 non-null object\n",
      "Company Name             3507 non-null object\n",
      "Last Sale                3425 non-null float64\n",
      "Market Capitalization    3507 non-null float64\n",
      "IPO Year                 1466 non-null float64\n",
      "Sector                   2415 non-null object\n",
      "Industry                 2415 non-null object\n",
      "dtypes: float64(3), object(4)\n",
      "memory usage: 219.2+ KB\n"
     ]
    }
   ],
   "source": [
    "pd.concat([amex, nyse]).info()"
   ]
  },
  {
   "cell_type": "markdown",
   "metadata": {},
   "source": [
    "### Add a reference column"
   ]
  },
  {
   "cell_type": "code",
   "execution_count": 15,
   "metadata": {},
   "outputs": [],
   "source": [
    "amex['Exchange'] = 'AMEX' # add column to reference source\n",
    "nyse['Exchange'] = 'NYSE'"
   ]
  },
  {
   "cell_type": "markdown",
   "metadata": {},
   "source": [
    "### Automate combining dataframe"
   ]
  },
  {
   "cell_type": "code",
   "execution_count": 19,
   "metadata": {},
   "outputs": [],
   "source": [
    "xls = pd.ExcelFile('data/listings.xlsx')\n",
    "exchanges = xls.sheet_names\n",
    "listings = [] # empty list to collect dataframes\n",
    "for exchange in exchanges:\n",
    "    listing = pd.read_excel(xls, sheet_name=exchange)\n",
    "    listing['Exchange'] = exchange # add reference column\n",
    "    listings.append(listing) # add dataframe to list"
   ]
  },
  {
   "cell_type": "code",
   "execution_count": 20,
   "metadata": {},
   "outputs": [],
   "source": [
    "combined_listings = pd.concat(listings) # list of dataframes"
   ]
  },
  {
   "cell_type": "code",
   "execution_count": 21,
   "metadata": {},
   "outputs": [
    {
     "name": "stdout",
     "output_type": "stream",
     "text": [
      "<class 'pandas.core.frame.DataFrame'>\n",
      "Int64Index: 6674 entries, 0 to 3146\n",
      "Data columns (total 8 columns):\n",
      "Stock Symbol             6674 non-null object\n",
      "Company Name             6674 non-null object\n",
      "Last Sale                6590 non-null float64\n",
      "Market Capitalization    6674 non-null float64\n",
      "IPO Year                 2852 non-null float64\n",
      "Sector                   5182 non-null object\n",
      "Industry                 5182 non-null object\n",
      "Exchange                 6674 non-null object\n",
      "dtypes: float64(3), object(5)\n",
      "memory usage: 469.3+ KB\n"
     ]
    }
   ],
   "source": [
    "combined_listings.info()"
   ]
  },
  {
   "cell_type": "code",
   "execution_count": null,
   "metadata": {},
   "outputs": [],
   "source": []
  },
  {
   "cell_type": "code",
   "execution_count": null,
   "metadata": {},
   "outputs": [],
   "source": []
  },
  {
   "cell_type": "code",
   "execution_count": null,
   "metadata": {},
   "outputs": [],
   "source": []
  },
  {
   "cell_type": "code",
   "execution_count": null,
   "metadata": {},
   "outputs": [],
   "source": []
  },
  {
   "cell_type": "code",
   "execution_count": null,
   "metadata": {},
   "outputs": [],
   "source": []
  },
  {
   "cell_type": "code",
   "execution_count": null,
   "metadata": {},
   "outputs": [],
   "source": []
  },
  {
   "cell_type": "code",
   "execution_count": null,
   "metadata": {},
   "outputs": [],
   "source": []
  }
 ],
 "metadata": {
  "kernelspec": {
   "display_name": "Python 3",
   "language": "python",
   "name": "python3"
  },
  "language_info": {
   "codemirror_mode": {
    "name": "ipython",
    "version": 3
   },
   "file_extension": ".py",
   "mimetype": "text/x-python",
   "name": "python",
   "nbconvert_exporter": "python",
   "pygments_lexer": "ipython3",
   "version": "3.7.3"
  }
 },
 "nbformat": 4,
 "nbformat_minor": 2
}
