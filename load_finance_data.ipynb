{
 "cells": [
  {
   "cell_type": "code",
   "execution_count": 28,
   "metadata": {},
   "outputs": [],
   "source": [
    "import pandas as pd\n",
    "import matplotlib.pyplot as plt\n",
    "from pandas_datareader.data import DataReader\n",
    "from datetime import datetime, date\n",
    "import pandas_datareader.data as web\n"
   ]
  },
  {
   "cell_type": "code",
   "execution_count": 8,
   "metadata": {},
   "outputs": [
    {
     "name": "stderr",
     "output_type": "stream",
     "text": [
      "C:\\Users\\Shubham\\Anaconda3\\lib\\site-packages\\pandas\\util\\_decorators.py:188: FutureWarning: The `sheetname` keyword is deprecated, use `sheet_name` instead\n",
      "  return func(*args, **kwargs)\n"
     ]
    },
    {
     "name": "stdout",
     "output_type": "stream",
     "text": [
      "     Stock Symbol             Company Name\n",
      "1586          JNJ        Johnson & Johnson\n",
      "1125          XOM  Exxon Mobil Corporation\n",
      "1548          JPM    J P Morgan Chase & Co\n"
     ]
    }
   ],
   "source": [
    "# Select ticker for largest company\n",
    "nyse = pd.read_excel('data/listings.xlsx', sheetname='nyse', na_values='n/a')\n",
    "nyse = nyse.sort_values('Market Capitalization', ascending=False)\n",
    "print(nyse[['Stock Symbol', 'Company Name']].head(3))"
   ]
  },
  {
   "cell_type": "code",
   "execution_count": 9,
   "metadata": {},
   "outputs": [
    {
     "name": "stdout",
     "output_type": "stream",
     "text": [
      "JNJ\n"
     ]
    }
   ],
   "source": [
    "largest_by_market_cap = nyse.iloc[0] # 1st row iloc is used for integer indexing\n",
    "\n",
    "print(largest_by_market_cap['Stock Symbol'])"
   ]
  },
  {
   "cell_type": "code",
   "execution_count": 10,
   "metadata": {},
   "outputs": [
    {
     "name": "stdout",
     "output_type": "stream",
     "text": [
      "<class 'pandas.core.frame.DataFrame'>\n",
      "Index: 3147 entries, JNJ to EAE\n",
      "Data columns (total 6 columns):\n",
      "Company Name             3147 non-null object\n",
      "Last Sale                3079 non-null float64\n",
      "Market Capitalization    3147 non-null float64\n",
      "IPO Year                 1361 non-null float64\n",
      "Sector                   2177 non-null object\n",
      "Industry                 2177 non-null object\n",
      "dtypes: float64(3), object(3)\n",
      "memory usage: 172.1+ KB\n",
      "None\n"
     ]
    }
   ],
   "source": [
    "# another way to get ticker for largest company \n",
    "# set stock ticker as index\n",
    "nyse = nyse.set_index('Stock Symbol')\n",
    "print(nyse.info())"
   ]
  },
  {
   "cell_type": "code",
   "execution_count": 11,
   "metadata": {},
   "outputs": [
    {
     "name": "stdout",
     "output_type": "stream",
     "text": [
      "JNJ\n"
     ]
    }
   ],
   "source": [
    "print(nyse['Market Capitalization'].idxmax()) # index of maximum value of market capitalization"
   ]
  },
  {
   "cell_type": "code",
   "execution_count": 13,
   "metadata": {},
   "outputs": [
    {
     "data": {
      "text/plain": [
       "array(['Health Care', 'Energy', 'Finance', 'Miscellaneous',\n",
       "       'Public Utilities', 'Basic Industries', 'Consumer Services',\n",
       "       'Consumer Non-Durables', 'Technology', 'Capital Goods',\n",
       "       'Transportation', 'Consumer Durables', nan], dtype=object)"
      ]
     },
     "execution_count": 13,
     "metadata": {},
     "output_type": "execute_result"
    }
   ],
   "source": [
    "# Get ticker for largest tech company\n",
    "nyse['Sector'].unique() # unique values as numpy array"
   ]
  },
  {
   "cell_type": "code",
   "execution_count": 15,
   "metadata": {},
   "outputs": [
    {
     "data": {
      "text/html": [
       "<div>\n",
       "<style scoped>\n",
       "    .dataframe tbody tr th:only-of-type {\n",
       "        vertical-align: middle;\n",
       "    }\n",
       "\n",
       "    .dataframe tbody tr th {\n",
       "        vertical-align: top;\n",
       "    }\n",
       "\n",
       "    .dataframe thead th {\n",
       "        text-align: right;\n",
       "    }\n",
       "</style>\n",
       "<table border=\"1\" class=\"dataframe\">\n",
       "  <thead>\n",
       "    <tr style=\"text-align: right;\">\n",
       "      <th></th>\n",
       "      <th>Company Name</th>\n",
       "      <th>Last Sale</th>\n",
       "      <th>Market Capitalization</th>\n",
       "      <th>IPO Year</th>\n",
       "      <th>Sector</th>\n",
       "      <th>Industry</th>\n",
       "    </tr>\n",
       "    <tr>\n",
       "      <th>Stock Symbol</th>\n",
       "      <th></th>\n",
       "      <th></th>\n",
       "      <th></th>\n",
       "      <th></th>\n",
       "      <th></th>\n",
       "      <th></th>\n",
       "    </tr>\n",
       "  </thead>\n",
       "  <tbody>\n",
       "    <tr>\n",
       "      <th>ORCL</th>\n",
       "      <td>Oracle Corporation</td>\n",
       "      <td>44.00</td>\n",
       "      <td>1.810461e+11</td>\n",
       "      <td>1986.0</td>\n",
       "      <td>Technology</td>\n",
       "      <td>Computer Software: Prepackaged Software</td>\n",
       "    </tr>\n",
       "    <tr>\n",
       "      <th>TSM</th>\n",
       "      <td>Taiwan Semiconductor Manufacturing Company Ltd.</td>\n",
       "      <td>31.83</td>\n",
       "      <td>1.650704e+11</td>\n",
       "      <td>1997.0</td>\n",
       "      <td>Technology</td>\n",
       "      <td>Semiconductors</td>\n",
       "    </tr>\n",
       "  </tbody>\n",
       "</table>\n",
       "</div>"
      ],
      "text/plain": [
       "                                                 Company Name  Last Sale  \\\n",
       "Stock Symbol                                                               \n",
       "ORCL                                       Oracle Corporation      44.00   \n",
       "TSM           Taiwan Semiconductor Manufacturing Company Ltd.      31.83   \n",
       "\n",
       "              Market Capitalization  IPO Year      Sector  \\\n",
       "Stock Symbol                                                \n",
       "ORCL                   1.810461e+11    1986.0  Technology   \n",
       "TSM                    1.650704e+11    1997.0  Technology   \n",
       "\n",
       "                                             Industry  \n",
       "Stock Symbol                                           \n",
       "ORCL          Computer Software: Prepackaged Software  \n",
       "TSM                                    Semiconductors  "
      ]
     },
     "execution_count": 15,
     "metadata": {},
     "output_type": "execute_result"
    }
   ],
   "source": [
    "\n",
    "tech = nyse.loc[nyse.Sector=='Technology']\n",
    "\n",
    "tech.head(2)"
   ]
  },
  {
   "cell_type": "code",
   "execution_count": 16,
   "metadata": {},
   "outputs": [
    {
     "data": {
      "text/plain": [
       "'ORCL'"
      ]
     },
     "execution_count": 16,
     "metadata": {},
     "output_type": "execute_result"
    }
   ],
   "source": [
    "# using idxmax()\n",
    "nyse.loc[nyse.Sector=='Technology','Market Capitalization'].idxmax()"
   ]
  },
  {
   "cell_type": "code",
   "execution_count": 18,
   "metadata": {},
   "outputs": [
    {
     "data": {
      "text/html": [
       "<div>\n",
       "<style scoped>\n",
       "    .dataframe tbody tr th:only-of-type {\n",
       "        vertical-align: middle;\n",
       "    }\n",
       "\n",
       "    .dataframe tbody tr th {\n",
       "        vertical-align: top;\n",
       "    }\n",
       "\n",
       "    .dataframe thead th {\n",
       "        text-align: right;\n",
       "    }\n",
       "</style>\n",
       "<table border=\"1\" class=\"dataframe\">\n",
       "  <thead>\n",
       "    <tr style=\"text-align: right;\">\n",
       "      <th></th>\n",
       "      <th>Company Name</th>\n",
       "      <th>Last Sale</th>\n",
       "      <th>Market Capitalization</th>\n",
       "      <th>IPO Year</th>\n",
       "      <th>Sector</th>\n",
       "      <th>Industry</th>\n",
       "    </tr>\n",
       "    <tr>\n",
       "      <th>Stock Symbol</th>\n",
       "      <th></th>\n",
       "      <th></th>\n",
       "      <th></th>\n",
       "      <th></th>\n",
       "      <th></th>\n",
       "      <th></th>\n",
       "    </tr>\n",
       "  </thead>\n",
       "  <tbody>\n",
       "    <tr>\n",
       "      <th>JNJ</th>\n",
       "      <td>Johnson &amp; Johnson</td>\n",
       "      <td>124.99</td>\n",
       "      <td>3.388344e+11</td>\n",
       "      <td>NaN</td>\n",
       "      <td>Health Care</td>\n",
       "      <td>Major Pharmaceuticals</td>\n",
       "    </tr>\n",
       "    <tr>\n",
       "      <th>XOM</th>\n",
       "      <td>Exxon Mobil Corporation</td>\n",
       "      <td>81.69</td>\n",
       "      <td>3.387287e+11</td>\n",
       "      <td>NaN</td>\n",
       "      <td>Energy</td>\n",
       "      <td>Integrated oil Companies</td>\n",
       "    </tr>\n",
       "    <tr>\n",
       "      <th>JPM</th>\n",
       "      <td>J P Morgan Chase &amp; Co</td>\n",
       "      <td>84.40</td>\n",
       "      <td>3.002833e+11</td>\n",
       "      <td>NaN</td>\n",
       "      <td>Finance</td>\n",
       "      <td>Major Banks</td>\n",
       "    </tr>\n",
       "    <tr>\n",
       "      <th>BABA</th>\n",
       "      <td>Alibaba Group Holding Limited</td>\n",
       "      <td>110.21</td>\n",
       "      <td>2.755250e+11</td>\n",
       "      <td>2014.0</td>\n",
       "      <td>Miscellaneous</td>\n",
       "      <td>Business Services</td>\n",
       "    </tr>\n",
       "    <tr>\n",
       "      <th>GE</th>\n",
       "      <td>General Electric Company</td>\n",
       "      <td>29.56</td>\n",
       "      <td>2.574296e+11</td>\n",
       "      <td>NaN</td>\n",
       "      <td>Energy</td>\n",
       "      <td>Consumer Electronics/Appliances</td>\n",
       "    </tr>\n",
       "  </tbody>\n",
       "</table>\n",
       "</div>"
      ],
      "text/plain": [
       "                               Company Name  Last Sale  Market Capitalization  \\\n",
       "Stock Symbol                                                                    \n",
       "JNJ                       Johnson & Johnson     124.99           3.388344e+11   \n",
       "XOM                 Exxon Mobil Corporation      81.69           3.387287e+11   \n",
       "JPM                   J P Morgan Chase & Co      84.40           3.002833e+11   \n",
       "BABA          Alibaba Group Holding Limited     110.21           2.755250e+11   \n",
       "GE                 General Electric Company      29.56           2.574296e+11   \n",
       "\n",
       "              IPO Year         Sector                         Industry  \n",
       "Stock Symbol                                                            \n",
       "JNJ                NaN    Health Care            Major Pharmaceuticals  \n",
       "XOM                NaN         Energy         Integrated oil Companies  \n",
       "JPM                NaN        Finance                      Major Banks  \n",
       "BABA            2014.0  Miscellaneous                Business Services  \n",
       "GE                 NaN         Energy  Consumer Electronics/Appliances  "
      ]
     },
     "execution_count": 18,
     "metadata": {},
     "output_type": "execute_result"
    }
   ],
   "source": [
    "nyse.head()"
   ]
  },
  {
   "cell_type": "code",
   "execution_count": 27,
   "metadata": {},
   "outputs": [
    {
     "name": "stdout",
     "output_type": "stream",
     "text": [
      "SNAP\n"
     ]
    }
   ],
   "source": [
    "# Get data for largest tech company with 2017 IPO\n",
    "ticker = nyse.loc[(nyse.Sector=='Technology') & (nyse['IPO Year']==2017), 'Market Capitalization'].idxmax()\n",
    "# data = DataReader(ticker, 'fred') #, date(2010,1,1)) # start:2010/1/1\n",
    "# data = data.loc[:,['Close','Volume']]\n",
    "print(ticker)"
   ]
  },
  {
   "cell_type": "code",
   "execution_count": 30,
   "metadata": {},
   "outputs": [],
   "source": [
    "data = web.get_data_yahoo(ticker, start=datetime(2010,1,1))\n",
    "data = data.loc[:,['Close','Volume']]"
   ]
  },
  {
   "cell_type": "code",
   "execution_count": 31,
   "metadata": {},
   "outputs": [
    {
     "data": {
      "text/plain": [
       "<matplotlib.axes._subplots.AxesSubplot at 0x20b305ecd68>"
      ]
     },
     "execution_count": 31,
     "metadata": {},
     "output_type": "execute_result"
    },
    {
     "data": {
      "image/png": "[encoded data removed]",
      "text/plain": [
       "<Figure size 432x288 with 1 Axes>"
      ]
     },
     "metadata": {
      "needs_background": "light"
     },
     "output_type": "display_data"
    }
   ],
   "source": [
    "# Visualize price & volume on the two axes\n",
    "# to plot two columns that are measured with different scales on the same chart we can use the secondary_y parameter & select the column on right axis with different scale\n",
    "data.plot(title=ticker, secondary_y='volume')\n"
   ]
  },
  {
   "cell_type": "code",
   "execution_count": 38,
   "metadata": {},
   "outputs": [
    {
     "data": {
      "text/plain": [
       "<Figure size 432x288 with 0 Axes>"
      ]
     },
     "metadata": {},
     "output_type": "display_data"
    }
   ],
   "source": [
    "# tight_layout : improves layout by reducing whitespaces\n",
    "plt.tight_layout()\n",
    "plt.show()"
   ]
  }
 ],
 "metadata": {
  "kernelspec": {
   "display_name": "Python 3",
   "language": "python",
   "name": "python3"
  },
  "language_info": {
   "codemirror_mode": {
    "name": "ipython",
    "version": 3
   },
   "file_extension": ".py",
   "mimetype": "text/x-python",
   "name": "python",
   "nbconvert_exporter": "python",
   "pygments_lexer": "ipython3",
   "version": "3.7.3"
  }
 },
 "nbformat": 4,
 "nbformat_minor": 2
}
