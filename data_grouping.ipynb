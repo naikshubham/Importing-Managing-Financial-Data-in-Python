{
 "cells": [
  {
   "cell_type": "markdown",
   "metadata": {
    "colab_type": "text",
    "id": "5fCEDCU_qrC0"
   },
   "source": [
    "# Aggregating data by category"
   ]
  },
  {
   "cell_type": "code",
   "execution_count": 3,
   "metadata": {},
   "outputs": [],
   "source": [
    "import pandas as pd\n",
    "import matplotlib.pyplot as plt"
   ]
  },
  {
   "cell_type": "code",
   "execution_count": 4,
   "metadata": {
    "colab": {},
    "colab_type": "code",
    "id": "Al-WEYiFmfDp"
   },
   "outputs": [
    {
     "name": "stderr",
     "output_type": "stream",
     "text": [
      "C:\\Users\\Shubham\\Anaconda3\\lib\\site-packages\\pandas\\util\\_decorators.py:188: FutureWarning: The `sheetname` keyword is deprecated, use `sheet_name` instead\n",
      "  return func(*args, **kwargs)\n"
     ]
    }
   ],
   "source": [
    "nasdaq = pd.read_excel('data/listings.xlsx', sheetname='nasdaq',na_values=['n/a'])"
   ]
  },
  {
   "cell_type": "code",
   "execution_count": 5,
   "metadata": {
    "colab": {},
    "colab_type": "code",
    "id": "PROeP0YVmqq9"
   },
   "outputs": [
    {
     "name": "stdout",
     "output_type": "stream",
     "text": [
      "<class 'pandas.core.frame.DataFrame'>\n",
      "RangeIndex: 3167 entries, 0 to 3166\n",
      "Data columns (total 7 columns):\n",
      "Stock Symbol             3167 non-null object\n",
      "Company Name             3167 non-null object\n",
      "Last Sale                3165 non-null float64\n",
      "Market Capitalization    3167 non-null float64\n",
      "IPO Year                 1386 non-null float64\n",
      "Sector                   2767 non-null object\n",
      "Industry                 2767 non-null object\n",
      "dtypes: float64(3), object(4)\n",
      "memory usage: 173.3+ KB\n"
     ]
    }
   ],
   "source": [
    "nasdaq.info()"
   ]
  },
  {
   "cell_type": "markdown",
   "metadata": {
    "colab_type": "text",
    "id": "rbwrSeDgSuFm"
   },
   "source": [
    "## group the data by sector\n"
   ]
  },
  {
   "cell_type": "code",
   "execution_count": 6,
   "metadata": {
    "colab": {},
    "colab_type": "code",
    "id": "Vsv5SdufSgUR"
   },
   "outputs": [
    {
     "name": "stdout",
     "output_type": "stream",
     "text": [
      "Basic Industries 724.8999338580088\n",
      "Capital Goods 1511.2373727809975\n",
      "Consumer Durables 839.8026066270018\n",
      "Consumer Non-Durables 3104.0512055241334\n",
      "Consumer Services 5582.344174819412\n",
      "Energy 826.607607854727\n",
      "Finance 1044.0902047996321\n",
      "Health Care 1758.709196756265\n",
      "Miscellaneous 3445.655934557965\n",
      "Public Utilities 2357.8653150733353\n",
      "Technology 10883.43421354678\n",
      "Transportation 2869.660006726413\n"
     ]
    }
   ],
   "source": [
    "# transform the market capitalization by million dollar units\n",
    "nasdaq['market_cap_m'] = nasdaq['Market Capitalization'].div(1e6)\n",
    "\n",
    "# now we dont need market capitalization column, we can eliminate it with the drop column\n",
    "nasdaq = nasdaq.drop('Market Capitalization', axis=1) \n",
    "\n",
    "nasdaq_by_sector = nasdaq.groupby('Sector') # create groupby object\n",
    "\n",
    "# we can then iterate over this new object in a loop, in each iteration \n",
    "# the object returns two items just like a dictionary first a key that corresponds to a category represented by this group of data\n",
    "# second a dataframe containing information for this group\n",
    "for sector, data in nasdaq_by_sector:\n",
    "    print(sector, data.market_cap_m.mean())\n"
   ]
  },
  {
   "cell_type": "markdown",
   "metadata": {
    "colab_type": "text",
    "id": "sbHM4_5cUqtR"
   },
   "source": [
    "### pandas makes it easier to aggregate by category\n",
    "- instead of a for loop, select any numerical column from grouped data and apply aggregate statistics"
   ]
  },
  {
   "cell_type": "code",
   "execution_count": 7,
   "metadata": {
    "colab": {},
    "colab_type": "code",
    "id": "GsbGkbiRUqCW"
   },
   "outputs": [],
   "source": [
    "mcap_by_sector = nasdaq_by_sector.market_cap_m.mean()"
   ]
  },
  {
   "cell_type": "markdown",
   "metadata": {
    "colab_type": "text",
    "id": "CZU6_uVLVQ0I"
   },
   "source": [
    "### Visualize the category summary as horizontal bar chart\n"
   ]
  },
  {
   "cell_type": "code",
   "execution_count": 8,
   "metadata": {
    "colab": {},
    "colab_type": "code",
    "id": "1RVyf0mCVXcZ"
   },
   "outputs": [
    {
     "data": {
      "text/plain": [
       "Text(0.5, 0, 'USD mn')"
      ]
     },
     "execution_count": 8,
     "metadata": {},
     "output_type": "execute_result"
    },
    {
     "data": {
      "image/png": "[encoded data removed]",
      "text/plain": [
       "<Figure size 432x288 with 1 Axes>"
      ]
     },
     "metadata": {
      "needs_background": "light"
     },
     "output_type": "display_data"
    }
   ],
   "source": [
    "title = 'NASDAQ Avg Market Cap by Sector'\n",
    "mcap_by_sector.plot(kind='barh', title=title)\n",
    "plt.xlabel('USD mn')\n"
   ]
  },
  {
   "cell_type": "markdown",
   "metadata": {
    "colab_type": "text",
    "id": "nIPGL1nhVx1X"
   },
   "source": [
    "### Aggregate summary for all numeric columns by applying statistics to group data instead of selecting one or more columns"
   ]
  },
  {
   "cell_type": "code",
   "execution_count": 9,
   "metadata": {
    "colab": {},
    "colab_type": "code",
    "id": "6guN1s66V1jS"
   },
   "outputs": [
    {
     "data": {
      "text/html": [
       "<div>\n",
       "<style scoped>\n",
       "    .dataframe tbody tr th:only-of-type {\n",
       "        vertical-align: middle;\n",
       "    }\n",
       "\n",
       "    .dataframe tbody tr th {\n",
       "        vertical-align: top;\n",
       "    }\n",
       "\n",
       "    .dataframe thead th {\n",
       "        text-align: right;\n",
       "    }\n",
       "</style>\n",
       "<table border=\"1\" class=\"dataframe\">\n",
       "  <thead>\n",
       "    <tr style=\"text-align: right;\">\n",
       "      <th></th>\n",
       "      <th>Last Sale</th>\n",
       "      <th>IPO Year</th>\n",
       "      <th>market_cap_m</th>\n",
       "    </tr>\n",
       "    <tr>\n",
       "      <th>Sector</th>\n",
       "      <th></th>\n",
       "      <th></th>\n",
       "      <th></th>\n",
       "    </tr>\n",
       "  </thead>\n",
       "  <tbody>\n",
       "    <tr>\n",
       "      <th>Basic Industries</th>\n",
       "      <td>21.597679</td>\n",
       "      <td>2000.766667</td>\n",
       "      <td>724.899934</td>\n",
       "    </tr>\n",
       "    <tr>\n",
       "      <th>Capital Goods</th>\n",
       "      <td>26.188681</td>\n",
       "      <td>2001.324675</td>\n",
       "      <td>1511.237373</td>\n",
       "    </tr>\n",
       "    <tr>\n",
       "      <th>Consumer Durables</th>\n",
       "      <td>24.363391</td>\n",
       "      <td>2003.222222</td>\n",
       "      <td>839.802607</td>\n",
       "    </tr>\n",
       "    <tr>\n",
       "      <th>Consumer Non-Durables</th>\n",
       "      <td>25.749565</td>\n",
       "      <td>2000.609756</td>\n",
       "      <td>3104.051206</td>\n",
       "    </tr>\n",
       "    <tr>\n",
       "      <th>Consumer Services</th>\n",
       "      <td>34.917318</td>\n",
       "      <td>2004.104575</td>\n",
       "      <td>5582.344175</td>\n",
       "    </tr>\n",
       "    <tr>\n",
       "      <th>Energy</th>\n",
       "      <td>15.496834</td>\n",
       "      <td>2008.034483</td>\n",
       "      <td>826.607608</td>\n",
       "    </tr>\n",
       "    <tr>\n",
       "      <th>Finance</th>\n",
       "      <td>29.644242</td>\n",
       "      <td>2010.321101</td>\n",
       "      <td>1044.090205</td>\n",
       "    </tr>\n",
       "    <tr>\n",
       "      <th>Health Care</th>\n",
       "      <td>19.462531</td>\n",
       "      <td>2009.240409</td>\n",
       "      <td>1758.709197</td>\n",
       "    </tr>\n",
       "    <tr>\n",
       "      <th>Miscellaneous</th>\n",
       "      <td>46.094369</td>\n",
       "      <td>2004.333333</td>\n",
       "      <td>3445.655935</td>\n",
       "    </tr>\n",
       "    <tr>\n",
       "      <th>Public Utilities</th>\n",
       "      <td>18.643705</td>\n",
       "      <td>2006.040000</td>\n",
       "      <td>2357.865315</td>\n",
       "    </tr>\n",
       "    <tr>\n",
       "      <th>Technology</th>\n",
       "      <td>31.100317</td>\n",
       "      <td>2002.653285</td>\n",
       "      <td>10883.434214</td>\n",
       "    </tr>\n",
       "    <tr>\n",
       "      <th>Transportation</th>\n",
       "      <td>28.096758</td>\n",
       "      <td>1997.809524</td>\n",
       "      <td>2869.660007</td>\n",
       "    </tr>\n",
       "  </tbody>\n",
       "</table>\n",
       "</div>"
      ],
      "text/plain": [
       "                       Last Sale     IPO Year  market_cap_m\n",
       "Sector                                                     \n",
       "Basic Industries       21.597679  2000.766667    724.899934\n",
       "Capital Goods          26.188681  2001.324675   1511.237373\n",
       "Consumer Durables      24.363391  2003.222222    839.802607\n",
       "Consumer Non-Durables  25.749565  2000.609756   3104.051206\n",
       "Consumer Services      34.917318  2004.104575   5582.344175\n",
       "Energy                 15.496834  2008.034483    826.607608\n",
       "Finance                29.644242  2010.321101   1044.090205\n",
       "Health Care            19.462531  2009.240409   1758.709197\n",
       "Miscellaneous          46.094369  2004.333333   3445.655935\n",
       "Public Utilities       18.643705  2006.040000   2357.865315\n",
       "Technology             31.100317  2002.653285  10883.434214\n",
       "Transportation         28.096758  1997.809524   2869.660007"
      ]
     },
     "execution_count": 9,
     "metadata": {},
     "output_type": "execute_result"
    }
   ],
   "source": [
    "nasdaq_by_sector.mean()"
   ]
  },
  {
   "cell_type": "markdown",
   "metadata": {
    "colab_type": "text",
    "id": "8crRO1iRWZp0"
   },
   "source": [
    "### Median market capitalization by sector\n",
    "- market capitalization data has large outliers. To get a more robust summary of the market value of companies in each sector, calculate the median market capitalization by sector."
   ]
  },
  {
   "cell_type": "code",
   "execution_count": 11,
   "metadata": {
    "colab": {},
    "colab_type": "code",
    "id": "g-forZRYWafx"
   },
   "outputs": [
    {
     "name": "stdout",
     "output_type": "stream",
     "text": [
      "<class 'pandas.core.frame.DataFrame'>\n",
      "RangeIndex: 3147 entries, 0 to 3146\n",
      "Data columns (total 7 columns):\n",
      "Stock Symbol             3147 non-null object\n",
      "Company Name             3147 non-null object\n",
      "Last Sale                3079 non-null float64\n",
      "Market Capitalization    3147 non-null float64\n",
      "IPO Year                 1361 non-null float64\n",
      "Sector                   2177 non-null object\n",
      "Industry                 2177 non-null object\n",
      "dtypes: float64(3), object(4)\n",
      "memory usage: 172.2+ KB\n"
     ]
    },
    {
     "data": {
      "image/png": "[encoded data removed]",
      "text/plain": [
       "<Figure size 432x288 with 1 Axes>"
      ]
     },
     "metadata": {
      "needs_background": "light"
     },
     "output_type": "display_data"
    }
   ],
   "source": [
    "# Inspect NYSE data\n",
    "nyse = pd.read_excel('data/listings.xlsx', sheet_name='nyse', na_values='n/a')\n",
    "\n",
    "nyse.info()\n",
    "\n",
    "# Create market_cap_m\n",
    "nyse['market_cap_m'] = nyse['Market Capitalization'].div(1e6)\n",
    "\n",
    "# Drop market cap column\n",
    "nyse = nyse.drop('Market Capitalization', axis=1)\n",
    "\n",
    "# Group nyse by sector\n",
    "mcap_by_sector = nyse.groupby('Sector')\n",
    "\n",
    "# Calculate median\n",
    "median_mcap_by_sector = mcap_by_sector.market_cap_m.median()\n",
    "\n",
    "# Plot and show as horizontal bar chart\n",
    "median_mcap_by_sector.plot(kind='barh', title='NYSE - Median Market Capitalization')\n",
    "\n",
    "# Add the label\n",
    "plt.xlabel('USD mn')\n",
    "\n",
    "# Show the plot\n",
    "plt.show()"
   ]
  },
  {
   "cell_type": "markdown",
   "metadata": {
    "colab_type": "text",
    "id": "3A4Cc7kaXTXb"
   },
   "source": [
    "### Median market capitalization by IPO year\n",
    "- analyze how market capitalization has evolved for different IPO years. combine data from all three exchanges to get a more comprehensive view."
   ]
  },
  {
   "cell_type": "code",
   "execution_count": 13,
   "metadata": {
    "colab": {},
    "colab_type": "code",
    "id": "DGkOeAySXcc9"
   },
   "outputs": [
    {
     "name": "stdout",
     "output_type": "stream",
     "text": [
      "<class 'pandas.core.frame.DataFrame'>\n",
      "Int64Index: 6674 entries, 0 to 3166\n",
      "Data columns (total 8 columns):\n",
      "Stock Symbol             6674 non-null object\n",
      "Company Name             6674 non-null object\n",
      "Last Sale                6590 non-null float64\n",
      "Market Capitalization    6674 non-null float64\n",
      "IPO Year                 2852 non-null float64\n",
      "Sector                   5182 non-null object\n",
      "Industry                 5182 non-null object\n",
      "Exchange                 6674 non-null object\n",
      "dtypes: float64(3), object(5)\n",
      "memory usage: 469.3+ KB\n",
      "     Stock Symbol                                       Company Name  \\\n",
      "0            XXII                            22nd Century Group, Inc   \n",
      "1             FAX              Aberdeen Asia-Pacific Income Fund Inc   \n",
      "2             IAF                 Aberdeen Australia Equity Fund Inc   \n",
      "3              CH                          Aberdeen Chile Fund, Inc.   \n",
      "4  ABE             Aberdeen Emerging Markets Smaller Company Oppo...   \n",
      "\n",
      "   Last Sale  Market Capitalization  IPO Year                 Sector  \\\n",
      "0     1.3300           1.206285e+08       NaN  Consumer Non-Durables   \n",
      "1     5.0000           1.266333e+09    1986.0                    NaN   \n",
      "2     6.1500           1.398653e+08       NaN                    NaN   \n",
      "3     7.2201           6.756346e+07       NaN                    NaN   \n",
      "4    13.3600           1.288430e+08       NaN                    NaN   \n",
      "\n",
      "                Industry Exchange  \n",
      "0  Farming/Seeds/Milling     amex  \n",
      "1                    NaN     amex  \n",
      "2                    NaN     amex  \n",
      "3                    NaN     amex  \n",
      "4                    NaN     amex  \n"
     ]
    },
    {
     "data": {
      "image/png": "[encoded data removed]",
      "text/plain": [
       "<Figure size 432x288 with 1 Axes>"
      ]
     },
     "metadata": {
      "needs_background": "light"
     },
     "output_type": "display_data"
    }
   ],
   "source": [
    "# Inspect listings\n",
    "amex = pd.read_excel('data/listings.xlsx', sheet_name='amex', na_values='n/a')\n",
    "nyse = pd.read_excel('data/listings.xlsx', sheet_name='nyse', na_values='n/a')\n",
    "nasdaq = pd.read_excel('data/listings.xlsx', sheet_name='nasdaq', na_values='n/a')\n",
    "\n",
    "amex['Exchange'] = 'amex'\n",
    "nyse['Exchange'] = 'nyse'\n",
    "nasdaq['Exchange'] = 'nasdaq'\n",
    "                     \n",
    "listings = pd.concat([amex, nyse, nasdaq])\n",
    "listings.info()\n",
    "\n",
    "# Show listings head\n",
    "print(listings.head())\n",
    "\n",
    "# Create market_cap_m\n",
    "listings['market_cap_m'] = listings['Market Capitalization'].div(1e6)\n",
    "\n",
    "# Select companies with IPO after 1985\n",
    "listings = listings[listings['IPO Year'] > 1985]\n",
    "\n",
    "# Drop missing values and convert to integers\n",
    "listings['IPO Year'] = listings['IPO Year'].dropna().astype(int)\n",
    "\n",
    "# Calculate the median market cap by IPO Year and sort the index\n",
    "ipo_by_year = listings.groupby('IPO Year').market_cap_m.median().sort_index()\n",
    "\n",
    "# Plot results as a bar chart\n",
    "ipo_by_year.plot(kind='bar')\n",
    "\n",
    "# Show the plot\n",
    "plt.show()"
   ]
  },
  {
   "cell_type": "markdown",
   "metadata": {
    "colab_type": "text",
    "id": "f4JOWGLQYN19"
   },
   "source": [
    "#### After 1985, the year 1990 had the highest median market capitalization."
   ]
  },
  {
   "cell_type": "markdown",
   "metadata": {
    "colab_type": "text",
    "id": "0TmSicoOYUpI"
   },
   "source": [
    "### All summary statistics by sector\n",
    "- apply the various summary statistics to a groupby object to obtain the result on a per-category basis. This includes the .describe() function, which provides several insights all at once!\n"
   ]
  },
  {
   "cell_type": "code",
   "execution_count": 14,
   "metadata": {
    "colab": {},
    "colab_type": "code",
    "id": "-TYgAQZIYO5C"
   },
   "outputs": [
    {
     "name": "stdout",
     "output_type": "stream",
     "text": [
      "<class 'pandas.core.frame.DataFrame'>\n",
      "RangeIndex: 3167 entries, 0 to 3166\n",
      "Data columns (total 8 columns):\n",
      "Stock Symbol             3167 non-null object\n",
      "Company Name             3167 non-null object\n",
      "Last Sale                3165 non-null float64\n",
      "Market Capitalization    3167 non-null float64\n",
      "IPO Year                 1386 non-null float64\n",
      "Sector                   2767 non-null object\n",
      "Industry                 2767 non-null object\n",
      "Exchange                 3167 non-null object\n",
      "dtypes: float64(3), object(5)\n",
      "memory usage: 198.0+ KB\n",
      "                      Last Sale                                          \\\n",
      "                          count       mean         std     min      25%   \n",
      "Sector                                                                    \n",
      "Basic Industries           78.0  21.597679   29.009745  0.0336   2.6325   \n",
      "Capital Goods             172.0  26.188681   36.596723  0.1500   4.3800   \n",
      "Consumer Durables          88.0  24.363391   44.399150  0.0498   3.7500   \n",
      "Consumer Non-Durables     103.0  25.749565   34.669635  0.1996   3.8800   \n",
      "Consumer Services         348.0  34.917318   67.416144  0.0488   6.8250   \n",
      "Energy                     65.0  15.496834   22.952420  0.1330   1.9600   \n",
      "Finance                   627.0  29.644242   61.446557  0.0752  10.7350   \n",
      "Health Care               645.0  19.462531   46.932855  0.0081   2.1200   \n",
      "Miscellaneous              89.0  46.094369  186.951618  0.8384   3.5700   \n",
      "Public Utilities           66.0  18.643705   19.307475  0.2532   5.3325   \n",
      "Technology                433.0  31.100317   63.761748  0.1800   5.1000   \n",
      "Transportation             52.0  28.096758   30.627056  0.2300   3.6400   \n",
      "\n",
      "                                                IPO Year               ...  \\\n",
      "                          50%      75%      max    count         mean  ...   \n",
      "Sector                                                                 ...   \n",
      "Basic Industries        8.580  22.4800   114.80     30.0  2000.766667  ...   \n",
      "Capital Goods          16.020  33.5400   304.00     77.0  2001.324675  ...   \n",
      "Consumer Durables       9.685  30.6525   354.00     36.0  2003.222222  ...   \n",
      "Consumer Non-Durables  11.290  34.8600   202.18     41.0  2000.609756  ...   \n",
      "Consumer Services      20.660  37.5250   884.67    153.0  2004.104575  ...   \n",
      "Energy                  8.120  17.9800   114.10     29.0  2008.034483  ...   \n",
      "Finance                21.200  32.7000  1367.00    218.0  2010.321101  ...   \n",
      "Health Care             6.260  19.3800   764.79    391.0  2009.240409  ...   \n",
      "Miscellaneous          11.210  34.3300  1738.77     42.0  2004.333333  ...   \n",
      "Public Utilities       13.150  25.3150   104.46     25.0  2006.040000  ...   \n",
      "Technology             15.000  37.9500   840.18    274.0  2002.653285  ...   \n",
      "Transportation         19.000  43.5950   152.05     21.0  1997.809524  ...   \n",
      "\n",
      "                                       market_cap_m                \\\n",
      "                           75%     max        count          mean   \n",
      "Sector                                                              \n",
      "Basic Industries       2011.75  2016.0         78.0    724.899934   \n",
      "Capital Goods          2012.00  2016.0        172.0   1511.237373   \n",
      "Consumer Durables      2013.00  2015.0         88.0    839.802607   \n",
      "Consumer Non-Durables  2011.00  2016.0        103.0   3104.051206   \n",
      "Consumer Services      2013.00  2017.0        348.0   5582.344175   \n",
      "Energy                 2016.00  2017.0         66.0    826.607608   \n",
      "Finance                2015.00  2017.0        627.0   1044.090205   \n",
      "Health Care            2015.00  2017.0        645.0   1758.709197   \n",
      "Miscellaneous          2010.75  2016.0         89.0   3445.655935   \n",
      "Public Utilities       2014.00  2016.0         66.0   2357.865315   \n",
      "Technology             2012.00  2017.0        433.0  10883.434214   \n",
      "Transportation         2006.00  2013.0         52.0   2869.660007   \n",
      "\n",
      "                                                                              \\\n",
      "                                std  min        25%         50%          75%   \n",
      "Sector                                                                         \n",
      "Basic Industries        1445.544949  0.0  42.870409  150.385214   721.203429   \n",
      "Capital Goods           4829.846757  0.0  68.473978  293.801019  1031.733122   \n",
      "Consumer Durables       1907.604606  0.0  41.234061  177.593858   669.007612   \n",
      "Consumer Non-Durables  12998.094858  0.0  47.795651  229.930660  1149.085989   \n",
      "Consumer Services      26492.247636  0.0  79.944770  524.151914  2463.643810   \n",
      "Energy                  1568.869627  0.0  53.604112  182.427776   728.108863   \n",
      "Finance                 2874.795862  0.0  49.512344  205.476633   732.083620   \n",
      "Health Care             8767.258744  0.0  38.034797  173.823325   662.945151   \n",
      "Miscellaneous          11461.047175  0.0  63.958819  228.096175  1544.483369   \n",
      "Public Utilities        8729.065471  0.0  91.844332  378.995786  1115.589226   \n",
      "Technology             62279.404522  0.0  85.609828  600.720995  2464.720340   \n",
      "Transportation          6915.407403  0.0  68.539669  479.777469  1724.087196   \n",
      "\n",
      "                                      \n",
      "                                 max  \n",
      "Sector                                \n",
      "Basic Industries         7976.835456  \n",
      "Capital Goods           49614.832848  \n",
      "Consumer Durables       13620.922869  \n",
      "Consumer Non-Durables  111367.949216  \n",
      "Consumer Services      422138.530626  \n",
      "Energy                   9468.718827  \n",
      "Finance                 39372.418940  \n",
      "Health Care            118927.210535  \n",
      "Miscellaneous           85496.045967  \n",
      "Public Utilities        52930.713577  \n",
      "Technology             740024.467000  \n",
      "Transportation          43005.669415  \n",
      "\n",
      "[12 rows x 24 columns]\n",
      "                     Sector               \n",
      "Last Sale     count  Basic Industries             78.000000\n",
      "                     Capital Goods               172.000000\n",
      "                     Consumer Durables            88.000000\n",
      "                     Consumer Non-Durables       103.000000\n",
      "                     Consumer Services           348.000000\n",
      "                     Energy                       65.000000\n",
      "                     Finance                     627.000000\n",
      "                     Health Care                 645.000000\n",
      "                     Miscellaneous                89.000000\n",
      "                     Public Utilities             66.000000\n",
      "                     Technology                  433.000000\n",
      "                     Transportation               52.000000\n",
      "              mean   Basic Industries             21.597679\n",
      "                     Capital Goods                26.188681\n",
      "                     Consumer Durables            24.363391\n",
      "                     Consumer Non-Durables        25.749565\n",
      "                     Consumer Services            34.917318\n",
      "                     Energy                       15.496834\n",
      "                     Finance                      29.644242\n",
      "                     Health Care                  19.462531\n",
      "                     Miscellaneous                46.094369\n",
      "                     Public Utilities             18.643705\n",
      "                     Technology                   31.100317\n",
      "                     Transportation               28.096758\n",
      "              std    Basic Industries             29.009745\n",
      "                     Capital Goods                36.596723\n",
      "                     Consumer Durables            44.399150\n",
      "                     Consumer Non-Durables        34.669635\n",
      "                     Consumer Services            67.416144\n",
      "                     Energy                       22.952420\n",
      "                                                  ...      \n",
      "market_cap_m  50%    Finance                     205.476633\n",
      "                     Health Care                 173.823325\n",
      "                     Miscellaneous               228.096175\n",
      "                     Public Utilities            378.995786\n",
      "                     Technology                  600.720995\n",
      "                     Transportation              479.777469\n",
      "              75%    Basic Industries            721.203429\n",
      "                     Capital Goods              1031.733122\n",
      "                     Consumer Durables           669.007612\n",
      "                     Consumer Non-Durables      1149.085989\n",
      "                     Consumer Services          2463.643810\n",
      "                     Energy                      728.108863\n",
      "                     Finance                     732.083620\n",
      "                     Health Care                 662.945151\n",
      "                     Miscellaneous              1544.483369\n",
      "                     Public Utilities           1115.589226\n",
      "                     Technology                 2464.720340\n",
      "                     Transportation             1724.087196\n",
      "              max    Basic Industries           7976.835456\n",
      "                     Capital Goods             49614.832848\n",
      "                     Consumer Durables         13620.922869\n",
      "                     Consumer Non-Durables    111367.949216\n",
      "                     Consumer Services        422138.530626\n",
      "                     Energy                     9468.718827\n",
      "                     Finance                   39372.418940\n",
      "                     Health Care              118927.210535\n",
      "                     Miscellaneous             85496.045967\n",
      "                     Public Utilities          52930.713577\n",
      "                     Technology               740024.467000\n",
      "                     Transportation            43005.669415\n",
      "Length: 288, dtype: float64\n"
     ]
    }
   ],
   "source": [
    "# Inspect NASDAQ data\n",
    "nasdaq.info()\n",
    "\n",
    "# Create market_cap_m\n",
    "nasdaq['market_cap_m'] = nasdaq['Market Capitalization'].div(1e6)\n",
    "\n",
    "# Drop the Market Capitalization column\n",
    "nasdaq.drop('Market Capitalization', axis=1, inplace=True)\n",
    "\n",
    "# Group nasdaq by Sector\n",
    "nasdaq_by_sector = nasdaq.groupby('Sector')\n",
    "\n",
    "# Create summary statistics by sector\n",
    "summary = nasdaq_by_sector.describe()\n",
    "\n",
    "# Print the summary\n",
    "print(summary)\n",
    "\n",
    "# Unstack \n",
    "summary = summary.unstack()\n",
    "\n",
    "# Print the summary again\n",
    "print(summary)"
   ]
  }
 ],
 "metadata": {
  "colab": {
   "collapsed_sections": [],
   "name": "Welcome To Colaboratory",
   "provenance": []
  },
  "kernelspec": {
   "display_name": "Python 3",
   "language": "python",
   "name": "python3"
  },
  "language_info": {
   "codemirror_mode": {
    "name": "ipython",
    "version": 3
   },
   "file_extension": ".py",
   "mimetype": "text/x-python",
   "name": "python",
   "nbconvert_exporter": "python",
   "pygments_lexer": "ipython3",
   "version": "3.7.3"
  }
 },
 "nbformat": 4,
 "nbformat_minor": 1
}
