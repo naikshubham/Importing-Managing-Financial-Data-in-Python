{
 "cells": [
  {
   "cell_type": "markdown",
   "metadata": {},
   "source": [
    "# Several aggregations by category"
   ]
  },
  {
   "cell_type": "code",
   "execution_count": 1,
   "metadata": {},
   "outputs": [],
   "source": [
    "import pandas as pd\n",
    "import matplotlib.pyplot as plt"
   ]
  },
  {
   "cell_type": "code",
   "execution_count": 2,
   "metadata": {},
   "outputs": [],
   "source": [
    "nasdaq = pd.read_excel('data/listings.xlsx', sheet_name='nasdaq', na_values=['n/a'])\n",
    "nasdaq['market_cap_m'] = nasdaq['Market Capitalization'].div(1e6)"
   ]
  },
  {
   "cell_type": "markdown",
   "metadata": {},
   "source": [
    "## Pandas `agg` methods allows us to pass a list of statistical metrics"
   ]
  },
  {
   "cell_type": "code",
   "execution_count": 3,
   "metadata": {},
   "outputs": [
    {
     "data": {
      "text/html": [
       "<div>\n",
       "<style scoped>\n",
       "    .dataframe tbody tr th:only-of-type {\n",
       "        vertical-align: middle;\n",
       "    }\n",
       "\n",
       "    .dataframe tbody tr th {\n",
       "        vertical-align: top;\n",
       "    }\n",
       "\n",
       "    .dataframe thead th {\n",
       "        text-align: right;\n",
       "    }\n",
       "</style>\n",
       "<table border=\"1\" class=\"dataframe\">\n",
       "  <thead>\n",
       "    <tr style=\"text-align: right;\">\n",
       "      <th></th>\n",
       "      <th>size</th>\n",
       "      <th>mean</th>\n",
       "    </tr>\n",
       "    <tr>\n",
       "      <th>Sector</th>\n",
       "      <th></th>\n",
       "      <th></th>\n",
       "    </tr>\n",
       "  </thead>\n",
       "  <tbody>\n",
       "    <tr>\n",
       "      <th>Transportation</th>\n",
       "      <td>52</td>\n",
       "      <td>2869.660007</td>\n",
       "    </tr>\n",
       "    <tr>\n",
       "      <th>Energy</th>\n",
       "      <td>66</td>\n",
       "      <td>826.607608</td>\n",
       "    </tr>\n",
       "    <tr>\n",
       "      <th>Public Utilities</th>\n",
       "      <td>66</td>\n",
       "      <td>2357.865315</td>\n",
       "    </tr>\n",
       "    <tr>\n",
       "      <th>Basic Industries</th>\n",
       "      <td>78</td>\n",
       "      <td>724.899934</td>\n",
       "    </tr>\n",
       "    <tr>\n",
       "      <th>Consumer Durables</th>\n",
       "      <td>88</td>\n",
       "      <td>839.802607</td>\n",
       "    </tr>\n",
       "    <tr>\n",
       "      <th>Miscellaneous</th>\n",
       "      <td>89</td>\n",
       "      <td>3445.655935</td>\n",
       "    </tr>\n",
       "    <tr>\n",
       "      <th>Consumer Non-Durables</th>\n",
       "      <td>103</td>\n",
       "      <td>3104.051206</td>\n",
       "    </tr>\n",
       "    <tr>\n",
       "      <th>Capital Goods</th>\n",
       "      <td>172</td>\n",
       "      <td>1511.237373</td>\n",
       "    </tr>\n",
       "    <tr>\n",
       "      <th>Consumer Services</th>\n",
       "      <td>348</td>\n",
       "      <td>5582.344175</td>\n",
       "    </tr>\n",
       "    <tr>\n",
       "      <th>Technology</th>\n",
       "      <td>433</td>\n",
       "      <td>10883.434214</td>\n",
       "    </tr>\n",
       "    <tr>\n",
       "      <th>Finance</th>\n",
       "      <td>627</td>\n",
       "      <td>1044.090205</td>\n",
       "    </tr>\n",
       "    <tr>\n",
       "      <th>Health Care</th>\n",
       "      <td>645</td>\n",
       "      <td>1758.709197</td>\n",
       "    </tr>\n",
       "  </tbody>\n",
       "</table>\n",
       "</div>"
      ],
      "text/plain": [
       "                       size          mean\n",
       "Sector                                   \n",
       "Transportation           52   2869.660007\n",
       "Energy                   66    826.607608\n",
       "Public Utilities         66   2357.865315\n",
       "Basic Industries         78    724.899934\n",
       "Consumer Durables        88    839.802607\n",
       "Miscellaneous            89   3445.655935\n",
       "Consumer Non-Durables   103   3104.051206\n",
       "Capital Goods           172   1511.237373\n",
       "Consumer Services       348   5582.344175\n",
       "Technology              433  10883.434214\n",
       "Finance                 627   1044.090205\n",
       "Health Care             645   1758.709197"
      ]
     },
     "execution_count": 3,
     "metadata": {},
     "output_type": "execute_result"
    }
   ],
   "source": [
    "by_sector = nasdaq.groupby('Sector')\n",
    "by_sector.market_cap_m.agg(['size','mean']).sort_values('size')"
   ]
  },
  {
   "cell_type": "markdown",
   "metadata": {},
   "source": [
    "- Another option is to pass a dictionary to **`agg`** method. This allows us to assign labels to the statistics"
   ]
  },
  {
   "cell_type": "code",
   "execution_count": 4,
   "metadata": {},
   "outputs": [
    {
     "name": "stderr",
     "output_type": "stream",
     "text": [
      "C:\\Users\\Shubham\\Anaconda3\\lib\\site-packages\\ipykernel_launcher.py:1: FutureWarning: using a dict on a Series for aggregation\n",
      "is deprecated and will be removed in a future version\n",
      "  \"\"\"Entry point for launching an IPython kernel.\n"
     ]
    },
    {
     "data": {
      "text/html": [
       "<div>\n",
       "<style scoped>\n",
       "    .dataframe tbody tr th:only-of-type {\n",
       "        vertical-align: middle;\n",
       "    }\n",
       "\n",
       "    .dataframe tbody tr th {\n",
       "        vertical-align: top;\n",
       "    }\n",
       "\n",
       "    .dataframe thead th {\n",
       "        text-align: right;\n",
       "    }\n",
       "</style>\n",
       "<table border=\"1\" class=\"dataframe\">\n",
       "  <thead>\n",
       "    <tr style=\"text-align: right;\">\n",
       "      <th></th>\n",
       "      <th>#Obs</th>\n",
       "      <th>Average</th>\n",
       "    </tr>\n",
       "    <tr>\n",
       "      <th>Sector</th>\n",
       "      <th></th>\n",
       "      <th></th>\n",
       "    </tr>\n",
       "  </thead>\n",
       "  <tbody>\n",
       "    <tr>\n",
       "      <th>Basic Industries</th>\n",
       "      <td>78</td>\n",
       "      <td>724.899934</td>\n",
       "    </tr>\n",
       "    <tr>\n",
       "      <th>Capital Goods</th>\n",
       "      <td>172</td>\n",
       "      <td>1511.237373</td>\n",
       "    </tr>\n",
       "    <tr>\n",
       "      <th>Consumer Durables</th>\n",
       "      <td>88</td>\n",
       "      <td>839.802607</td>\n",
       "    </tr>\n",
       "    <tr>\n",
       "      <th>Consumer Non-Durables</th>\n",
       "      <td>103</td>\n",
       "      <td>3104.051206</td>\n",
       "    </tr>\n",
       "    <tr>\n",
       "      <th>Consumer Services</th>\n",
       "      <td>348</td>\n",
       "      <td>5582.344175</td>\n",
       "    </tr>\n",
       "    <tr>\n",
       "      <th>Energy</th>\n",
       "      <td>66</td>\n",
       "      <td>826.607608</td>\n",
       "    </tr>\n",
       "    <tr>\n",
       "      <th>Finance</th>\n",
       "      <td>627</td>\n",
       "      <td>1044.090205</td>\n",
       "    </tr>\n",
       "    <tr>\n",
       "      <th>Health Care</th>\n",
       "      <td>645</td>\n",
       "      <td>1758.709197</td>\n",
       "    </tr>\n",
       "    <tr>\n",
       "      <th>Miscellaneous</th>\n",
       "      <td>89</td>\n",
       "      <td>3445.655935</td>\n",
       "    </tr>\n",
       "    <tr>\n",
       "      <th>Public Utilities</th>\n",
       "      <td>66</td>\n",
       "      <td>2357.865315</td>\n",
       "    </tr>\n",
       "    <tr>\n",
       "      <th>Technology</th>\n",
       "      <td>433</td>\n",
       "      <td>10883.434214</td>\n",
       "    </tr>\n",
       "    <tr>\n",
       "      <th>Transportation</th>\n",
       "      <td>52</td>\n",
       "      <td>2869.660007</td>\n",
       "    </tr>\n",
       "  </tbody>\n",
       "</table>\n",
       "</div>"
      ],
      "text/plain": [
       "                       #Obs       Average\n",
       "Sector                                   \n",
       "Basic Industries         78    724.899934\n",
       "Capital Goods           172   1511.237373\n",
       "Consumer Durables        88    839.802607\n",
       "Consumer Non-Durables   103   3104.051206\n",
       "Consumer Services       348   5582.344175\n",
       "Energy                   66    826.607608\n",
       "Finance                 627   1044.090205\n",
       "Health Care             645   1758.709197\n",
       "Miscellaneous            89   3445.655935\n",
       "Public Utilities         66   2357.865315\n",
       "Technology              433  10883.434214\n",
       "Transportation           52   2869.660007"
      ]
     },
     "execution_count": 4,
     "metadata": {},
     "output_type": "execute_result"
    }
   ],
   "source": [
    "by_sector.market_cap_m.agg({'#Obs':'size', 'Average':'mean'})"
   ]
  },
  {
   "cell_type": "markdown",
   "metadata": {},
   "source": [
    "- If we apply **`agg method`** before selecting a column, then we can pass a dictionary to where we can pass the **`column name`** as key & the **`statistical operation to be performed`** as value"
   ]
  },
  {
   "cell_type": "code",
   "execution_count": 5,
   "metadata": {},
   "outputs": [
    {
     "data": {
      "text/html": [
       "<div>\n",
       "<style scoped>\n",
       "    .dataframe tbody tr th:only-of-type {\n",
       "        vertical-align: middle;\n",
       "    }\n",
       "\n",
       "    .dataframe tbody tr th {\n",
       "        vertical-align: top;\n",
       "    }\n",
       "\n",
       "    .dataframe thead th {\n",
       "        text-align: right;\n",
       "    }\n",
       "</style>\n",
       "<table border=\"1\" class=\"dataframe\">\n",
       "  <thead>\n",
       "    <tr style=\"text-align: right;\">\n",
       "      <th></th>\n",
       "      <th>market_cap_m</th>\n",
       "      <th>IPO Year</th>\n",
       "    </tr>\n",
       "    <tr>\n",
       "      <th>Sector</th>\n",
       "      <th></th>\n",
       "      <th></th>\n",
       "    </tr>\n",
       "  </thead>\n",
       "  <tbody>\n",
       "    <tr>\n",
       "      <th>Basic Industries</th>\n",
       "      <td>78</td>\n",
       "      <td>1996.5</td>\n",
       "    </tr>\n",
       "    <tr>\n",
       "      <th>Capital Goods</th>\n",
       "      <td>172</td>\n",
       "      <td>2000.0</td>\n",
       "    </tr>\n",
       "    <tr>\n",
       "      <th>Consumer Durables</th>\n",
       "      <td>88</td>\n",
       "      <td>2002.5</td>\n",
       "    </tr>\n",
       "    <tr>\n",
       "      <th>Consumer Non-Durables</th>\n",
       "      <td>103</td>\n",
       "      <td>1998.0</td>\n",
       "    </tr>\n",
       "    <tr>\n",
       "      <th>Consumer Services</th>\n",
       "      <td>348</td>\n",
       "      <td>2005.0</td>\n",
       "    </tr>\n",
       "    <tr>\n",
       "      <th>Energy</th>\n",
       "      <td>66</td>\n",
       "      <td>2011.0</td>\n",
       "    </tr>\n",
       "    <tr>\n",
       "      <th>Finance</th>\n",
       "      <td>627</td>\n",
       "      <td>2014.0</td>\n",
       "    </tr>\n",
       "    <tr>\n",
       "      <th>Health Care</th>\n",
       "      <td>645</td>\n",
       "      <td>2014.0</td>\n",
       "    </tr>\n",
       "    <tr>\n",
       "      <th>Miscellaneous</th>\n",
       "      <td>89</td>\n",
       "      <td>2005.0</td>\n",
       "    </tr>\n",
       "    <tr>\n",
       "      <th>Public Utilities</th>\n",
       "      <td>66</td>\n",
       "      <td>2007.0</td>\n",
       "    </tr>\n",
       "    <tr>\n",
       "      <th>Technology</th>\n",
       "      <td>433</td>\n",
       "      <td>2001.5</td>\n",
       "    </tr>\n",
       "    <tr>\n",
       "      <th>Transportation</th>\n",
       "      <td>52</td>\n",
       "      <td>1997.0</td>\n",
       "    </tr>\n",
       "  </tbody>\n",
       "</table>\n",
       "</div>"
      ],
      "text/plain": [
       "                       market_cap_m  IPO Year\n",
       "Sector                                       \n",
       "Basic Industries                 78    1996.5\n",
       "Capital Goods                   172    2000.0\n",
       "Consumer Durables                88    2002.5\n",
       "Consumer Non-Durables           103    1998.0\n",
       "Consumer Services               348    2005.0\n",
       "Energy                           66    2011.0\n",
       "Finance                         627    2014.0\n",
       "Health Care                     645    2014.0\n",
       "Miscellaneous                    89    2005.0\n",
       "Public Utilities                 66    2007.0\n",
       "Technology                      433    2001.5\n",
       "Transportation                   52    1997.0"
      ]
     },
     "execution_count": 5,
     "metadata": {},
     "output_type": "execute_result"
    }
   ],
   "source": [
    "by_sector.agg({'market_cap_m':'size', 'IPO Year':'median'})"
   ]
  },
  {
   "cell_type": "markdown",
   "metadata": {},
   "source": [
    "### Aggregate by two or more categories at the same time"
   ]
  },
  {
   "cell_type": "code",
   "execution_count": 6,
   "metadata": {},
   "outputs": [
    {
     "data": {
      "text/plain": [
       "Sector            IPO Year\n",
       "Basic Industries  1972.0        877.240005\n",
       "                  1973.0       1445.697371\n",
       "                  1986.0       1396.817381\n",
       "                  1988.0         24.847526\n",
       "                  1990.0        434.808483\n",
       "                  1991.0          9.338401\n",
       "                  1992.0        160.416661\n",
       "                  1993.0       1933.224036\n",
       "                  1994.0        163.267514\n",
       "                  1995.0        125.342784\n",
       "                  1996.0       4087.508427\n",
       "                  1997.0         20.754774\n",
       "                  2008.0        331.370813\n",
       "                  2010.0        120.296167\n",
       "                  2011.0         35.498729\n",
       "                  2012.0        381.796074\n",
       "                  2013.0         22.661533\n",
       "                  2015.0        260.075564\n",
       "                  2016.0         81.288336\n",
       "Capital Goods     1972.0        889.230257\n",
       "                  1980.0      14941.006076\n",
       "                  1981.0         38.632877\n",
       "                  1983.0          7.735259\n",
       "                  1984.0        707.111689\n",
       "                  1986.0       1383.223861\n",
       "                  1987.0       1065.536401\n",
       "                  1989.0       6917.217531\n",
       "                  1990.0       7698.847242\n",
       "                  1991.0        294.231907\n",
       "                  1992.0        529.163207\n",
       "                                  ...     \n",
       "Technology        2002.0       4693.036311\n",
       "                  2003.0        703.916963\n",
       "                  2004.0      96406.278619\n",
       "                  2005.0      12550.881696\n",
       "                  2006.0       1611.467106\n",
       "                  2007.0        992.937074\n",
       "                  2008.0        433.736504\n",
       "                  2009.0      21702.013298\n",
       "                  2010.0       4449.380757\n",
       "                  2011.0       2119.157708\n",
       "                  2012.0      35269.774812\n",
       "                  2013.0       1928.917055\n",
       "                  2014.0       1808.608848\n",
       "                  2015.0       1747.667392\n",
       "                  2016.0        641.782956\n",
       "                  2017.0       1781.683772\n",
       "Transportation    1986.0       1176.179710\n",
       "                  1991.0       6646.778622\n",
       "                  1992.0         56.074572\n",
       "                  1993.0       3474.796885\n",
       "                  1994.0        319.911130\n",
       "                  1996.0       1329.873667\n",
       "                  1997.0       9681.791865\n",
       "                  2002.0       6914.854068\n",
       "                  2005.0         83.516330\n",
       "                  2006.0       1397.129447\n",
       "                  2007.0        413.900806\n",
       "                  2009.0        552.445919\n",
       "                  2011.0       3711.638317\n",
       "                  2013.0        125.740421\n",
       "Name: market_cap_m, Length: 280, dtype: float64"
      ]
     },
     "execution_count": 6,
     "metadata": {},
     "output_type": "execute_result"
    }
   ],
   "source": [
    "by_sector_year = nasdaq.groupby(['Sector', 'IPO Year'])\n",
    "by_sector_year.market_cap_m.mean()"
   ]
  },
  {
   "cell_type": "markdown",
   "metadata": {},
   "source": [
    "### Select from MultiIndex()\n",
    "- Select values from the above multiindex dataframe \n",
    "- use **`.loc[col]`** : select multiple row labels from the first level\n",
    "- If we select a single label from first index level using .loc, then pandas returns a series with single index that only contains values from the second level"
   ]
  },
  {
   "cell_type": "code",
   "execution_count": 8,
   "metadata": {},
   "outputs": [
    {
     "data": {
      "text/plain": [
       "IPO Year\n",
       "1972.0     877.240005\n",
       "1973.0    1445.697371\n",
       "1986.0    1396.817381\n",
       "1988.0      24.847526\n",
       "1990.0     434.808483\n",
       "1991.0       9.338401\n",
       "1992.0     160.416661\n",
       "1993.0    1933.224036\n",
       "1994.0     163.267514\n",
       "1995.0     125.342784\n",
       "1996.0    4087.508427\n",
       "1997.0      20.754774\n",
       "2008.0     331.370813\n",
       "2010.0     120.296167\n",
       "2011.0      35.498729\n",
       "2012.0     381.796074\n",
       "2013.0      22.661533\n",
       "2015.0     260.075564\n",
       "2016.0      81.288336\n",
       "Name: market_cap_m, dtype: float64"
      ]
     },
     "execution_count": 8,
     "metadata": {},
     "output_type": "execute_result"
    }
   ],
   "source": [
    "mcap_sector_year = by_sector_year.market_cap_m.mean()\n",
    "mcap_sector_year.loc['Basic Industries']"
   ]
  },
  {
   "cell_type": "markdown",
   "metadata": {},
   "source": [
    "- we can also select multiple categories from the first level of multiindex, pandas will return series only with the selected subset of categories"
   ]
  },
  {
   "cell_type": "code",
   "execution_count": 10,
   "metadata": {},
   "outputs": [
    {
     "data": {
      "text/plain": [
       "Sector            IPO Year\n",
       "Basic Industries  1972.0       877.240005\n",
       "                  1973.0      1445.697371\n",
       "                  1986.0      1396.817381\n",
       "                  1988.0        24.847526\n",
       "                  1990.0       434.808483\n",
       "                  1991.0         9.338401\n",
       "                  1992.0       160.416661\n",
       "                  1993.0      1933.224036\n",
       "                  1994.0       163.267514\n",
       "                  1995.0       125.342784\n",
       "                  1996.0      4087.508427\n",
       "                  1997.0        20.754774\n",
       "                  2008.0       331.370813\n",
       "                  2010.0       120.296167\n",
       "                  2011.0        35.498729\n",
       "                  2012.0       381.796074\n",
       "                  2013.0        22.661533\n",
       "                  2015.0       260.075564\n",
       "                  2016.0        81.288336\n",
       "Transportation    1986.0      1176.179710\n",
       "                  1991.0      6646.778622\n",
       "                  1992.0        56.074572\n",
       "                  1993.0      3474.796885\n",
       "                  1994.0       319.911130\n",
       "                  1996.0      1329.873667\n",
       "                  1997.0      9681.791865\n",
       "                  2002.0      6914.854068\n",
       "                  2005.0        83.516330\n",
       "                  2006.0      1397.129447\n",
       "                  2007.0       413.900806\n",
       "                  2009.0       552.445919\n",
       "                  2011.0      3711.638317\n",
       "                  2013.0       125.740421\n",
       "Name: market_cap_m, dtype: float64"
      ]
     },
     "execution_count": 10,
     "metadata": {},
     "output_type": "execute_result"
    }
   ],
   "source": [
    "mcap_sector_year.loc[['Basic Industries', 'Transportation']]"
   ]
  },
  {
   "cell_type": "markdown",
   "metadata": {},
   "source": [
    "## Company value by exchange and sector\n",
    "- calculate the median market capitalization for each sector, differentiated by the exchange that the companies are listed on. Use .unstack() to pivot the exchange labels from the rows into the columns. "
   ]
  },
  {
   "cell_type": "code",
   "execution_count": 14,
   "metadata": {},
   "outputs": [
    {
     "name": "stdout",
     "output_type": "stream",
     "text": [
      "Sector            Exchange\n",
      "Basic Industries  amex         148.564581\n",
      "                  nasdaq       150.385214\n",
      "                  nyse        2450.240499\n",
      "Capital Goods     amex          49.596035\n",
      "                  nasdaq       293.801019\n",
      "Name: market_cap_m, dtype: float64\n"
     ]
    },
    {
     "data": {
      "image/png": "[encoded data removed]",
      "text/plain": [
       "<Figure size 432x288 with 1 Axes>"
      ]
     },
     "metadata": {
      "needs_background": "light"
     },
     "output_type": "display_data"
    }
   ],
   "source": [
    "# Group listings by Sector and Exchange\n",
    "amex = pd.read_excel('data/listings.xlsx', sheet_name='amex', na_values=['n/a'])\n",
    "nyse = pd.read_excel('data/listings.xlsx', sheet_name='nyse', na_values=['n/a'])\n",
    "nasdaq = pd.read_excel('data/listings.xlsx', sheet_name='nasdaq', na_values=['n/a'])\n",
    "amex['Exchange'] = 'amex'\n",
    "nyse['Exchange'] = 'nyse'\n",
    "nasdaq['Exchange'] = 'nasdaq'\n",
    "listings = pd.concat([amex, nyse, nasdaq])\n",
    "listings['market_cap_m'] = listings['Market Capitalization'].div(1e6)\n",
    "by_sector_exchange = listings.groupby(['Sector', 'Exchange'])\n",
    "\n",
    "# Calculate the median market cap\n",
    "mcap_by_sector_exchange = by_sector_exchange.market_cap_m.median()\n",
    "\n",
    "# Display the head of the result\n",
    "print(mcap_by_sector_exchange.head())\n",
    "\n",
    "# Unstack mcap_by_sector_exchange\n",
    "mcap_unstacked = mcap_by_sector_exchange.unstack()\n",
    "\n",
    "# Plot as a bar chart\n",
    "mcap_unstacked.plot(kind='bar', title='Median Market Capitalization by Exchange')\n",
    "\n",
    "# Set the x label\n",
    "plt.xlabel('USD mn')\n",
    "\n",
    "# Show the plot\n",
    "plt.show()"
   ]
  },
  {
   "cell_type": "markdown",
   "metadata": {},
   "source": [
    "- NYSE has the highest Median Market Capitalization for all sectors"
   ]
  },
  {
   "cell_type": "markdown",
   "metadata": {},
   "source": [
    "### Calculate several metrics by sector and exchange\n",
    "- The .agg() function allows you to aggregate your data in even more ways by accepting two kinds of arguments. Providing a list of names of statistical methods calculates more than one summary statistic at once, and providing a dictionary where keys are column names and values are statistical methods applies a particular summary statistic to a designated column.\n",
    "- calculate the mean, median, and standard deviation of market capitalizations in millions of USD. "
   ]
  },
  {
   "cell_type": "code",
   "execution_count": 15,
   "metadata": {},
   "outputs": [
    {
     "name": "stdout",
     "output_type": "stream",
     "text": [
      "                                     Average       Median  Standard Deviation\n",
      "Sector                Exchange                                               \n",
      "Basic Industries      amex        391.646249   148.564581          605.307911\n",
      "                      nasdaq      724.899934   150.385214         1445.544949\n",
      "                      nyse       9590.514730  2450.240499        24845.469793\n",
      "Capital Goods         amex        113.943659    49.596035          161.946636\n",
      "                      nasdaq     1511.237373   293.801019         4829.846757\n",
      "                      nyse      10166.901284  3215.112817        20254.615284\n",
      "Consumer Durables     amex        234.445870    18.337396          441.813008\n",
      "                      nasdaq      839.802607   177.593858         1907.604606\n",
      "                      nyse       5854.121680  2982.585002         8996.673435\n",
      "Consumer Non-Durables amex       8868.469007    60.087022        31715.734906\n",
      "                      nasdaq     3104.051206   229.930660        12998.094858\n",
      "                      nyse      17798.582072  4701.717926        36608.579658\n",
      "Consumer Services     amex        229.955283    44.142866          435.805845\n",
      "                      nasdaq     5582.344175   524.151914        26492.247636\n",
      "                      nyse       6766.358336  1784.206237        18693.684539\n",
      "Energy                amex       1090.151561    50.963858         4783.382420\n",
      "                      nasdaq      826.607608   182.427776         1568.869627\n",
      "                      nyse      12915.331006  1838.883585        36689.704192\n",
      "Finance               amex        747.535436   238.609251         1305.761473\n",
      "                      nasdaq     1044.090205   205.476633         2874.795862\n",
      "                      nyse      13880.683383  2177.155208        32350.815813\n",
      "Health Care           amex        120.015785    42.763595          227.187869\n",
      "                      nasdaq     1758.709197   173.823325         8767.258744\n",
      "                      nyse      28562.816767  5879.060322        51863.139849\n",
      "Miscellaneous         amex         67.551430    59.131037           39.543554\n",
      "                      nasdaq     3445.655935   228.096175        11461.047175\n",
      "                      nyse      18594.165519  3734.555829        50001.908517\n",
      "Public Utilities      amex       2676.118962    83.283486         4490.753282\n",
      "                      nasdaq     2357.865315   378.995786         8729.065471\n",
      "                      nyse      13412.555407  4087.367768        29139.151978\n",
      "Technology            amex         59.552665    39.680756           49.184492\n",
      "                      nasdaq    10883.434214   600.720995        62279.404522\n",
      "                      nyse       9790.156572  2077.509267        26136.430839\n",
      "Transportation        amex        265.489675   265.489675                 NaN\n",
      "                      nasdaq     2869.660007   479.777469         6915.407403\n",
      "                      nyse       8491.577404   798.215734        18281.189502\n"
     ]
    },
    {
     "name": "stderr",
     "output_type": "stream",
     "text": [
      "C:\\Users\\Shubham\\Anaconda3\\lib\\site-packages\\ipykernel_launcher.py:11: FutureWarning: using a dict on a Series for aggregation\n",
      "is deprecated and will be removed in a future version\n",
      "  # This is added back by InteractiveShellApp.init_path()\n"
     ]
    }
   ],
   "source": [
    "# Create market_cap_m\n",
    "listings['market_cap_m'] = listings['Market Capitalization'].div(1e6)\n",
    "\n",
    "# Group listing by both Sector and Exchange\n",
    "by_sector_exchange = listings.groupby(['Sector', 'Exchange'])\n",
    "\n",
    "# Subset market_cap_m of by_sector_exchange\n",
    "bse_mcm = by_sector_exchange['market_cap_m']\n",
    "\n",
    "# Calculate mean, median, and std in summary\n",
    "summary = bse_mcm.agg({'Average': 'mean', 'Median': 'median', 'Standard Deviation': 'std'})\n",
    "\n",
    "# Print the summary\n",
    "print(summary)"
   ]
  }
 ],
 "metadata": {
  "kernelspec": {
   "display_name": "Python 3",
   "language": "python",
   "name": "python3"
  },
  "language_info": {
   "codemirror_mode": {
    "name": "ipython",
    "version": 3
   },
   "file_extension": ".py",
   "mimetype": "text/x-python",
   "name": "python",
   "nbconvert_exporter": "python",
   "pygments_lexer": "ipython3",
   "version": "3.7.3"
  }
 },
 "nbformat": 4,
 "nbformat_minor": 2
}
