{
 "cells": [
  {
   "cell_type": "code",
   "execution_count": 0,
   "metadata": {
    "colab": {},
    "colab_type": "code",
    "id": "OnqzYi2P98_x"
   },
   "outputs": [],
   "source": [
    "import pandas as pd"
   ]
  },
  {
   "cell_type": "code",
   "execution_count": 0,
   "metadata": {
    "colab": {},
    "colab_type": "code",
    "id": "Gamjk0ym-Haa"
   },
   "outputs": [],
   "source": [
    "import pandas_datareader.data as web\n",
    "from datetime import datetime"
   ]
  },
  {
   "cell_type": "code",
   "execution_count": 0,
   "metadata": {
    "colab": {},
    "colab_type": "code",
    "id": "TfJZKCkV-KmT"
   },
   "outputs": [],
   "source": [
    "start = datetime(2015, 1, 1)\n",
    "end = datetime(2016, 12, 31)\n",
    "# ticker = 'GOOG'\n",
    "# data_source = 'google'\n",
    "# stock_data = DataReader(ticker, data_source, start, end)\n",
    "\n",
    "stock_data = web.get_data_yahoo('SPY', start=start, end=end)"
   ]
  },
  {
   "cell_type": "code",
   "execution_count": 13,
   "metadata": {
    "colab": {
     "base_uri": "https://localhost:8080/",
     "height": 204
    },
    "colab_type": "code",
    "id": "3IqnZRWgACdE",
    "outputId": "c3fee6f8-123f-4abb-c019-8c18898e919a"
   },
   "outputs": [
    {
     "name": "stdout",
     "output_type": "stream",
     "text": [
      "<class 'pandas.core.frame.DataFrame'>\n",
      "DatetimeIndex: 504 entries, 2015-01-02 to 2016-12-30\n",
      "Data columns (total 6 columns):\n",
      "High         504 non-null float64\n",
      "Low          504 non-null float64\n",
      "Open         504 non-null float64\n",
      "Close        504 non-null float64\n",
      "Volume       504 non-null float64\n",
      "Adj Close    504 non-null float64\n",
      "dtypes: float64(6)\n",
      "memory usage: 27.6 KB\n"
     ]
    }
   ],
   "source": [
    "stock_data.info()"
   ]
  },
  {
   "cell_type": "code",
   "execution_count": 14,
   "metadata": {
    "colab": {
     "base_uri": "https://localhost:8080/",
     "height": 266
    },
    "colab_type": "code",
    "id": "FYDV0flRAFwK",
    "outputId": "466c31ab-625b-43e7-d5bc-897a72bd8aae"
   },
   "outputs": [
    {
     "data": {
      "text/html": [
       "<div>\n",
       "<style scoped>\n",
       "    .dataframe tbody tr th:only-of-type {\n",
       "        vertical-align: middle;\n",
       "    }\n",
       "\n",
       "    .dataframe tbody tr th {\n",
       "        vertical-align: top;\n",
       "    }\n",
       "\n",
       "    .dataframe thead th {\n",
       "        text-align: right;\n",
       "    }\n",
       "</style>\n",
       "<table border=\"1\" class=\"dataframe\">\n",
       "  <thead>\n",
       "    <tr style=\"text-align: right;\">\n",
       "      <th></th>\n",
       "      <th>High</th>\n",
       "      <th>Low</th>\n",
       "      <th>Open</th>\n",
       "      <th>Close</th>\n",
       "      <th>Volume</th>\n",
       "      <th>Adj Close</th>\n",
       "    </tr>\n",
       "    <tr>\n",
       "      <th>Date</th>\n",
       "      <th></th>\n",
       "      <th></th>\n",
       "      <th></th>\n",
       "      <th></th>\n",
       "      <th></th>\n",
       "      <th></th>\n",
       "    </tr>\n",
       "  </thead>\n",
       "  <tbody>\n",
       "    <tr>\n",
       "      <th>2015-01-02</th>\n",
       "      <td>206.880005</td>\n",
       "      <td>204.179993</td>\n",
       "      <td>206.380005</td>\n",
       "      <td>205.429993</td>\n",
       "      <td>121465900.0</td>\n",
       "      <td>187.074585</td>\n",
       "    </tr>\n",
       "    <tr>\n",
       "      <th>2015-01-05</th>\n",
       "      <td>204.369995</td>\n",
       "      <td>201.350006</td>\n",
       "      <td>204.169998</td>\n",
       "      <td>201.720001</td>\n",
       "      <td>169632600.0</td>\n",
       "      <td>183.696091</td>\n",
       "    </tr>\n",
       "    <tr>\n",
       "      <th>2015-01-06</th>\n",
       "      <td>202.720001</td>\n",
       "      <td>198.860001</td>\n",
       "      <td>202.089996</td>\n",
       "      <td>199.820007</td>\n",
       "      <td>209151400.0</td>\n",
       "      <td>181.965881</td>\n",
       "    </tr>\n",
       "    <tr>\n",
       "      <th>2016-12-28</th>\n",
       "      <td>226.589996</td>\n",
       "      <td>224.270004</td>\n",
       "      <td>226.570007</td>\n",
       "      <td>224.399994</td>\n",
       "      <td>64095000.0</td>\n",
       "      <td>213.045227</td>\n",
       "    </tr>\n",
       "    <tr>\n",
       "      <th>2016-12-29</th>\n",
       "      <td>224.889999</td>\n",
       "      <td>223.839996</td>\n",
       "      <td>224.479996</td>\n",
       "      <td>224.350006</td>\n",
       "      <td>48696100.0</td>\n",
       "      <td>212.997772</td>\n",
       "    </tr>\n",
       "    <tr>\n",
       "      <th>2016-12-30</th>\n",
       "      <td>224.830002</td>\n",
       "      <td>222.729996</td>\n",
       "      <td>224.729996</td>\n",
       "      <td>223.529999</td>\n",
       "      <td>108998300.0</td>\n",
       "      <td>212.219269</td>\n",
       "    </tr>\n",
       "  </tbody>\n",
       "</table>\n",
       "</div>"
      ],
      "text/plain": [
       "                  High         Low  ...       Volume   Adj Close\n",
       "Date                                ...                         \n",
       "2015-01-02  206.880005  204.179993  ...  121465900.0  187.074585\n",
       "2015-01-05  204.369995  201.350006  ...  169632600.0  183.696091\n",
       "2015-01-06  202.720001  198.860001  ...  209151400.0  181.965881\n",
       "2016-12-28  226.589996  224.270004  ...   64095000.0  213.045227\n",
       "2016-12-29  224.889999  223.839996  ...   48696100.0  212.997772\n",
       "2016-12-30  224.830002  222.729996  ...  108998300.0  212.219269\n",
       "\n",
       "[6 rows x 6 columns]"
      ]
     },
     "execution_count": 14,
     "metadata": {
      "tags": []
     },
     "output_type": "execute_result"
    }
   ],
   "source": [
    "pd.concat([stock_data.head(3), stock_data.tail(3)])"
   ]
  },
  {
   "cell_type": "markdown",
   "metadata": {
    "colab_type": "text",
    "id": "US1M3FotA1kZ"
   },
   "source": [
    "## Visualization\n",
    "\n"
   ]
  },
  {
   "cell_type": "code",
   "execution_count": 0,
   "metadata": {
    "colab": {},
    "colab_type": "code",
    "id": "eMxsYgjyAuOk"
   },
   "outputs": [],
   "source": [
    "import matplotlib.pyplot as plt"
   ]
  },
  {
   "cell_type": "code",
   "execution_count": 16,
   "metadata": {
    "colab": {
     "base_uri": "https://localhost:8080/",
     "height": 310
    },
    "colab_type": "code",
    "id": "X9TIkJybA8iS",
    "outputId": "eb9eecb0-26df-4d39-c2d9-d6a782fddd9f"
   },
   "outputs": [
    {
     "data": {
      "text/plain": [
       "<matplotlib.axes._subplots.AxesSubplot at 0x7fdbc21d5358>"
      ]
     },
     "execution_count": 16,
     "metadata": {
      "tags": []
     },
     "output_type": "execute_result"
    },
    {
     "data": {
      "image/png": "[encoded data removed]",
      "text/plain": [
       "<Figure size 432x288 with 1 Axes>"
      ]
     },
     "metadata": {
      "tags": []
     },
     "output_type": "display_data"
    }
   ],
   "source": [
    "stock_data['Close'].plot(title=ticker)"
   ]
  },
  {
   "cell_type": "markdown",
   "metadata": {
    "colab_type": "text",
    "id": "S60ovELvDu-Q"
   },
   "source": [
    "## Interest rates from FRED\n"
   ]
  },
  {
   "cell_type": "code",
   "execution_count": 0,
   "metadata": {
    "colab": {},
    "colab_type": "code",
    "id": "i8RrvnGmBJTH"
   },
   "outputs": [],
   "source": [
    "from pandas_datareader.data import DataReader\n",
    "from datetime import date"
   ]
  },
  {
   "cell_type": "code",
   "execution_count": 0,
   "metadata": {
    "colab": {},
    "colab_type": "code",
    "id": "QnG916FCD4o7"
   },
   "outputs": [],
   "source": [
    "series_code = \"DGS10\"\n",
    "data_source = 'fred'\n",
    "start = date(1962, 1, 1)\n",
    "data = DataReader(series_code, data_source, start)"
   ]
  },
  {
   "cell_type": "code",
   "execution_count": 19,
   "metadata": {
    "colab": {
     "base_uri": "https://localhost:8080/",
     "height": 119
    },
    "colab_type": "code",
    "id": "SxM4TAy5EI25",
    "outputId": "a66ede64-c18e-43e6-bfa4-d5c03da96c2e"
   },
   "outputs": [
    {
     "name": "stdout",
     "output_type": "stream",
     "text": [
      "<class 'pandas.core.frame.DataFrame'>\n",
      "DatetimeIndex: 15094 entries, 1962-01-02 to 2019-11-08\n",
      "Data columns (total 1 columns):\n",
      "DGS10    14450 non-null float64\n",
      "dtypes: float64(1)\n",
      "memory usage: 235.8 KB\n"
     ]
    }
   ],
   "source": [
    "data.info()"
   ]
  },
  {
   "cell_type": "code",
   "execution_count": 0,
   "metadata": {
    "colab": {},
    "colab_type": "code",
    "id": "oeM4JfV-ETwP"
   },
   "outputs": [],
   "source": [
    "# rename the column name \n",
    "series_name = '10-year Treasury'\n",
    "data = data.rename(columns={series_code:series_name})"
   ]
  },
  {
   "cell_type": "markdown",
   "metadata": {
    "colab_type": "text",
    "id": "TCGPVVeWEO1I"
   },
   "source": [
    "## Stock prices : Visualization"
   ]
  },
  {
   "cell_type": "code",
   "execution_count": 21,
   "metadata": {
    "colab": {
     "base_uri": "https://localhost:8080/",
     "height": 295
    },
    "colab_type": "code",
    "id": "42gz0jNJEpXG",
    "outputId": "8c554e5c-bc7d-4b19-85a4-cd016663a0ca"
   },
   "outputs": [
    {
     "data": {
      "image/png": "[encoded data removed]",
      "text/plain": [
       "<Figure size 432x288 with 1 Axes>"
      ]
     },
     "metadata": {
      "tags": []
     },
     "output_type": "display_data"
    }
   ],
   "source": [
    "data.plot(title=series_name)\n",
    "plt.show()"
   ]
  },
  {
   "cell_type": "markdown",
   "metadata": {
    "colab_type": "text",
    "id": "g6wROeWkE2Ae"
   },
   "source": [
    "## Combine stock and Economic data"
   ]
  },
  {
   "cell_type": "code",
   "execution_count": 0,
   "metadata": {
    "colab": {},
    "colab_type": "code",
    "id": "eozoYZpbEw-u"
   },
   "outputs": [],
   "source": [
    "start = date(2000, 1, 1)\n",
    "series = 'DCOILWTICO' # west texas instrument oil price\n",
    "oil = DataReader(series, 'fred', start)\n",
    "\n",
    "# lets combine the oil price with the stock price of Exxon mobile\n",
    "ticker = 'XOM' # Exxon mobile corporation\n",
    "stock = web.get_data_yahoo(ticker, start)\n"
   ]
  },
  {
   "cell_type": "code",
   "execution_count": 0,
   "metadata": {
    "colab": {},
    "colab_type": "code",
    "id": "lVRH2kPNF8yP"
   },
   "outputs": [],
   "source": [
    "# concat both dataframes\n",
    "\n",
    "data = pd.concat([stock['Close'], oil], axis=1)  # concatenate horizontally"
   ]
  },
  {
   "cell_type": "code",
   "execution_count": 30,
   "metadata": {
    "colab": {
     "base_uri": "https://localhost:8080/",
     "height": 136
    },
    "colab_type": "code",
    "id": "NcapUi9BGSNj",
    "outputId": "4d74935b-2953-4db3-9d8b-4ae4c1aadd55"
   },
   "outputs": [
    {
     "name": "stdout",
     "output_type": "stream",
     "text": [
      "<class 'pandas.core.frame.DataFrame'>\n",
      "DatetimeIndex: 5182 entries, 2000-01-03 to 2019-11-12\n",
      "Data columns (total 2 columns):\n",
      "Close         4998 non-null float64\n",
      "DCOILWTICO    4981 non-null float64\n",
      "dtypes: float64(2)\n",
      "memory usage: 121.5 KB\n"
     ]
    }
   ],
   "source": [
    "data.info()"
   ]
  },
  {
   "cell_type": "code",
   "execution_count": 31,
   "metadata": {
    "colab": {
     "base_uri": "https://localhost:8080/",
     "height": 265
    },
    "colab_type": "code",
    "id": "0xTiGKxLGvXi",
    "outputId": "c2413678-ffe0-4ad5-b5a1-9c103ad0eee9"
   },
   "outputs": [
    {
     "data": {
      "image/png": "[encoded data removed]",
      "text/plain": [
       "<Figure size 432x288 with 1 Axes>"
      ]
     },
     "metadata": {
      "tags": []
     },
     "output_type": "display_data"
    }
   ],
   "source": [
    "data.columns = ['Exxon', 'Oil Price']\n",
    "data.plot()\n",
    "plt.show()"
   ]
  },
  {
   "cell_type": "markdown",
   "metadata": {
    "colab_type": "text",
    "id": "KGMJYvldHCcX"
   },
   "source": [
    "### Note how Exxon mobile prices has been stable, despite the drop in oil prices, which indicates oil prices variations are not correlated with Exxon mobile prices"
   ]
  }
 ],
 "metadata": {
  "colab": {
   "collapsed_sections": [],
   "name": "Welcome To Colaboratory",
   "provenance": [],
   "toc_visible": true
  },
  "kernelspec": {
   "display_name": "Python 3",
   "language": "python",
   "name": "python3"
  },
  "language_info": {
   "codemirror_mode": {
    "name": "ipython",
    "version": 3
   },
   "file_extension": ".py",
   "mimetype": "text/x-python",
   "name": "python",
   "nbconvert_exporter": "python",
   "pygments_lexer": "ipython3",
   "version": "3.7.3"
  }
 },
 "nbformat": 4,
 "nbformat_minor": 1
}
