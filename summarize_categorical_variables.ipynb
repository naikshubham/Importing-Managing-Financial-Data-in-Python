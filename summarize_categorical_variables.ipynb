{
 "cells": [
  {
   "cell_type": "markdown",
   "metadata": {
    "colab_type": "text",
    "id": "5fCEDCU_qrC0"
   },
   "source": [
    "# Summarize categorical variables\n"
   ]
  },
  {
   "cell_type": "code",
   "execution_count": 1,
   "metadata": {},
   "outputs": [],
   "source": [
    "import pandas as pd\n",
    "import matplotlib.pyplot as plt"
   ]
  },
  {
   "cell_type": "code",
   "execution_count": 2,
   "metadata": {
    "colab": {},
    "colab_type": "code",
    "id": "Al-WEYiFmfDp"
   },
   "outputs": [
    {
     "name": "stderr",
     "output_type": "stream",
     "text": [
      "C:\\Users\\Shubham\\Anaconda3\\lib\\site-packages\\pandas\\util\\_decorators.py:188: FutureWarning: The `sheetname` keyword is deprecated, use `sheet_name` instead\n",
      "  return func(*args, **kwargs)\n"
     ]
    }
   ],
   "source": [
    "amex = pd.read_excel('data/listings.xlsx', sheetname='amex',na_values=['n/a'])"
   ]
  },
  {
   "cell_type": "code",
   "execution_count": 3,
   "metadata": {
    "colab": {},
    "colab_type": "code",
    "id": "PROeP0YVmqq9"
   },
   "outputs": [
    {
     "name": "stdout",
     "output_type": "stream",
     "text": [
      "<class 'pandas.core.frame.DataFrame'>\n",
      "RangeIndex: 360 entries, 0 to 359\n",
      "Data columns (total 7 columns):\n",
      "Stock Symbol             360 non-null object\n",
      "Company Name             360 non-null object\n",
      "Last Sale                346 non-null float64\n",
      "Market Capitalization    360 non-null float64\n",
      "IPO Year                 105 non-null float64\n",
      "Sector                   238 non-null object\n",
      "Industry                 238 non-null object\n",
      "dtypes: float64(3), object(4)\n",
      "memory usage: 19.8+ KB\n"
     ]
    }
   ],
   "source": [
    "amex.info()"
   ]
  },
  {
   "cell_type": "markdown",
   "metadata": {
    "colab_type": "text",
    "id": "cnNnLQermx05"
   },
   "source": [
    "### nunique() method to learn the unique categories"
   ]
  },
  {
   "cell_type": "code",
   "execution_count": 4,
   "metadata": {
    "colab": {},
    "colab_type": "code",
    "id": "g8jyhJlimr81"
   },
   "outputs": [
    {
     "name": "stdout",
     "output_type": "stream",
     "text": [
      "12\n"
     ]
    }
   ],
   "source": [
    "amex_unique = amex.Sector.nunique()\n",
    "print(amex_unique)"
   ]
  },
  {
   "cell_type": "code",
   "execution_count": 5,
   "metadata": {
    "colab": {},
    "colab_type": "code",
    "id": "8I8cPj5Vm84E"
   },
   "outputs": [
    {
     "data": {
      "text/plain": [
       "Stock Symbol             360\n",
       "Company Name             326\n",
       "Last Sale                323\n",
       "Market Capitalization    317\n",
       "IPO Year                  24\n",
       "Sector                    12\n",
       "Industry                  68\n",
       "dtype: int64"
      ]
     },
     "execution_count": 5,
     "metadata": {},
     "output_type": "execute_result"
    }
   ],
   "source": [
    "# to get unique values of all columns\n",
    "amex.apply(lambda x : x.nunique())"
   ]
  },
  {
   "cell_type": "code",
   "execution_count": 6,
   "metadata": {
    "colab": {},
    "colab_type": "code",
    "id": "eSQWcy2jnd9z"
   },
   "outputs": [
    {
     "data": {
      "text/plain": [
       "Health Care              49\n",
       "Basic Industries         44\n",
       "Energy                   28\n",
       "Consumer Services        27\n",
       "Capital Goods            24\n",
       "Technology               20\n",
       "Consumer Non-Durables    13\n",
       "Finance                  12\n",
       "Public Utilities         11\n",
       "Miscellaneous             5\n",
       "Consumer Durables         4\n",
       "Transportation            1\n",
       "Name: Sector, dtype: int64"
      ]
     },
     "execution_count": 6,
     "metadata": {},
     "output_type": "execute_result"
    }
   ],
   "source": [
    "# .value_counts() : count of each unique value\n",
    "amex.Sector.value_counts()"
   ]
  },
  {
   "cell_type": "code",
   "execution_count": 7,
   "metadata": {
    "colab": {},
    "colab_type": "code",
    "id": "dxFlrOpWn3tj"
   },
   "outputs": [
    {
     "data": {
      "text/plain": [
       "2002.0    19\n",
       "2015.0    11\n",
       "1999.0     9\n",
       "1993.0     7\n",
       "2014.0     6\n",
       "2004.0     5\n",
       "2013.0     5\n",
       "2017.0     5\n",
       "2003.0     5\n",
       "1992.0     4\n",
       "2005.0     3\n",
       "2006.0     3\n",
       "2016.0     3\n",
       "1986.0     3\n",
       "2011.0     3\n",
       "2007.0     3\n",
       "1997.0     2\n",
       "1988.0     2\n",
       "1998.0     2\n",
       "2009.0     1\n",
       "1991.0     1\n",
       "1996.0     1\n",
       "1990.0     1\n",
       "1987.0     1\n",
       "Name: IPO Year, dtype: int64"
      ]
     },
     "execution_count": 7,
     "metadata": {},
     "output_type": "execute_result"
    }
   ],
   "source": [
    "# how many IPOs per year ?\n",
    "amex['IPO Year'].value_counts()"
   ]
  },
  {
   "cell_type": "code",
   "execution_count": 8,
   "metadata": {
    "colab": {},
    "colab_type": "code",
    "id": "ZscFj6IjoBjq"
   },
   "outputs": [
    {
     "data": {
      "text/plain": [
       "2002    19\n",
       "2015    11\n",
       "1999     9\n",
       "1993     7\n",
       "2014     6\n",
       "2004     5\n",
       "2003     5\n",
       "2017     5\n",
       "2013     5\n",
       "1992     4\n",
       "2006     3\n",
       "2005     3\n",
       "2007     3\n",
       "2016     3\n",
       "2011     3\n",
       "1986     3\n",
       "1998     2\n",
       "1997     2\n",
       "1988     2\n",
       "2009     1\n",
       "1996     1\n",
       "1991     1\n",
       "1990     1\n",
       "1987     1\n",
       "Name: IPO Year, dtype: int64"
      ]
     },
     "execution_count": 8,
     "metadata": {},
     "output_type": "execute_result"
    }
   ],
   "source": [
    "# convert IPO Year to int\n",
    "ipo_by_yr = amex['IPO Year'].dropna().astype(int).value_counts()\n",
    "ipo_by_yr"
   ]
  },
  {
   "cell_type": "code",
   "execution_count": 9,
   "metadata": {
    "colab": {},
    "colab_type": "code",
    "id": "vxqipLi1obMD"
   },
   "outputs": [
    {
     "data": {
      "text/plain": [
       "(array([ 0,  1,  2,  3,  4,  5,  6,  7,  8,  9, 10, 11, 12, 13, 14, 15, 16,\n",
       "        17, 18, 19, 20, 21, 22, 23]), <a list of 24 Text xticklabel objects>)"
      ]
     },
     "execution_count": 9,
     "metadata": {},
     "output_type": "execute_result"
    },
    {
     "data": {
      "image/png": "[encoded data removed]",
      "text/plain": [
       "<Figure size 432x288 with 1 Axes>"
      ]
     },
     "metadata": {
      "needs_background": "light"
     },
     "output_type": "display_data"
    }
   ],
   "source": [
    "ipo_by_yr.plot(kind='bar', title='IPOs per year')\n",
    "plt.xticks(rotation=45)"
   ]
  },
  {
   "cell_type": "markdown",
   "metadata": {
    "colab_type": "text",
    "id": "cDdFIGZUOudE"
   },
   "source": [
    "### compare the distribution of listings in the AMEX, NASDAQ, and NYSE per sector"
   ]
  },
  {
   "cell_type": "code",
   "execution_count": 14,
   "metadata": {},
   "outputs": [
    {
     "data": {
      "text/html": [
       "<div>\n",
       "<style scoped>\n",
       "    .dataframe tbody tr th:only-of-type {\n",
       "        vertical-align: middle;\n",
       "    }\n",
       "\n",
       "    .dataframe tbody tr th {\n",
       "        vertical-align: top;\n",
       "    }\n",
       "\n",
       "    .dataframe thead th {\n",
       "        text-align: right;\n",
       "    }\n",
       "</style>\n",
       "<table border=\"1\" class=\"dataframe\">\n",
       "  <thead>\n",
       "    <tr style=\"text-align: right;\">\n",
       "      <th></th>\n",
       "      <th>Stock Symbol</th>\n",
       "      <th>Company Name</th>\n",
       "      <th>Last Sale</th>\n",
       "      <th>Market Capitalization</th>\n",
       "      <th>IPO Year</th>\n",
       "      <th>Sector</th>\n",
       "      <th>Industry</th>\n",
       "    </tr>\n",
       "  </thead>\n",
       "  <tbody>\n",
       "    <tr>\n",
       "      <th>0</th>\n",
       "      <td>XXII</td>\n",
       "      <td>22nd Century Group, Inc</td>\n",
       "      <td>1.3300</td>\n",
       "      <td>1.206285e+08</td>\n",
       "      <td>NaN</td>\n",
       "      <td>Consumer Non-Durables</td>\n",
       "      <td>Farming/Seeds/Milling</td>\n",
       "    </tr>\n",
       "    <tr>\n",
       "      <th>1</th>\n",
       "      <td>FAX</td>\n",
       "      <td>Aberdeen Asia-Pacific Income Fund Inc</td>\n",
       "      <td>5.0000</td>\n",
       "      <td>1.266333e+09</td>\n",
       "      <td>1986.0</td>\n",
       "      <td>NaN</td>\n",
       "      <td>NaN</td>\n",
       "    </tr>\n",
       "    <tr>\n",
       "      <th>2</th>\n",
       "      <td>IAF</td>\n",
       "      <td>Aberdeen Australia Equity Fund Inc</td>\n",
       "      <td>6.1500</td>\n",
       "      <td>1.398653e+08</td>\n",
       "      <td>NaN</td>\n",
       "      <td>NaN</td>\n",
       "      <td>NaN</td>\n",
       "    </tr>\n",
       "    <tr>\n",
       "      <th>3</th>\n",
       "      <td>CH</td>\n",
       "      <td>Aberdeen Chile Fund, Inc.</td>\n",
       "      <td>7.2201</td>\n",
       "      <td>6.756346e+07</td>\n",
       "      <td>NaN</td>\n",
       "      <td>NaN</td>\n",
       "      <td>NaN</td>\n",
       "    </tr>\n",
       "    <tr>\n",
       "      <th>4</th>\n",
       "      <td>ABE</td>\n",
       "      <td>Aberdeen Emerging Markets Smaller Company Oppo...</td>\n",
       "      <td>13.3600</td>\n",
       "      <td>1.288430e+08</td>\n",
       "      <td>NaN</td>\n",
       "      <td>NaN</td>\n",
       "      <td>NaN</td>\n",
       "    </tr>\n",
       "  </tbody>\n",
       "</table>\n",
       "</div>"
      ],
      "text/plain": [
       "     Stock Symbol                                       Company Name  \\\n",
       "0            XXII                            22nd Century Group, Inc   \n",
       "1             FAX              Aberdeen Asia-Pacific Income Fund Inc   \n",
       "2             IAF                 Aberdeen Australia Equity Fund Inc   \n",
       "3              CH                          Aberdeen Chile Fund, Inc.   \n",
       "4  ABE             Aberdeen Emerging Markets Smaller Company Oppo...   \n",
       "\n",
       "   Last Sale  Market Capitalization  IPO Year                 Sector  \\\n",
       "0     1.3300           1.206285e+08       NaN  Consumer Non-Durables   \n",
       "1     5.0000           1.266333e+09    1986.0                    NaN   \n",
       "2     6.1500           1.398653e+08       NaN                    NaN   \n",
       "3     7.2201           6.756346e+07       NaN                    NaN   \n",
       "4    13.3600           1.288430e+08       NaN                    NaN   \n",
       "\n",
       "                Industry  \n",
       "0  Farming/Seeds/Milling  \n",
       "1                    NaN  \n",
       "2                    NaN  \n",
       "3                    NaN  \n",
       "4                    NaN  "
      ]
     },
     "execution_count": 14,
     "metadata": {},
     "output_type": "execute_result"
    }
   ],
   "source": [
    "listings.head()"
   ]
  },
  {
   "cell_type": "code",
   "execution_count": 16,
   "metadata": {
    "colab": {},
    "colab_type": "code",
    "id": "b6TtseT-Opbu"
   },
   "outputs": [
    {
     "data": {
      "image/png": "[encoded data removed]",
      "text/plain": [
       "<Figure size 432x288 with 1 Axes>"
      ]
     },
     "metadata": {
      "needs_background": "light"
     },
     "output_type": "display_data"
    },
    {
     "data": {
      "image/png": "[encoded data removed]",
      "text/plain": [
       "<Figure size 432x288 with 1 Axes>"
      ]
     },
     "metadata": {
      "needs_background": "light"
     },
     "output_type": "display_data"
    },
    {
     "data": {
      "image/png": "[encoded data removed]",
      "text/plain": [
       "<Figure size 432x288 with 1 Axes>"
      ]
     },
     "metadata": {
      "needs_background": "light"
     },
     "output_type": "display_data"
    }
   ],
   "source": [
    "# Create the list exchanges\n",
    "exchanges = ['amex','nasdaq','nyse']\n",
    "listings = pd.read_excel('data/listings.xlsx',sheet_name=exchanges,na_values=['n/a'])\n",
    "\n",
    "\n",
    "# Iterate over exchanges then plot and show result\n",
    "for exchange in exchanges:\n",
    "    sectors = listings[exchange].Sector.value_counts()\n",
    "    # Sort in descending order and plot\n",
    "    sectors.sort_values(ascending=False).plot(kind='bar', title=exchange)\n",
    "    # Show the plot\n",
    "    plt.show()"
   ]
  },
  {
   "cell_type": "markdown",
   "metadata": {
    "colab_type": "text",
    "id": "N0-R0WXsO3wp"
   },
   "source": [
    "### combine data from all three exchanges and plot the distribution of IPO years for companies in the Technology sector"
   ]
  },
  {
   "cell_type": "code",
   "execution_count": 17,
   "metadata": {
    "colab": {},
    "colab_type": "code",
    "id": "twPlGl92OwqF"
   },
   "outputs": [
    {
     "data": {
      "image/png": "[encoded data removed]",
      "text/plain": [
       "<Figure size 432x288 with 1 Axes>"
      ]
     },
     "metadata": {
      "needs_background": "light"
     },
     "output_type": "display_data"
    }
   ],
   "source": [
    "# Create lists\n",
    "exchanges = ['amex', 'nasdaq', 'nyse']\n",
    "all_listings = []\n",
    "\n",
    "# Use for loop to create listing_data\n",
    "for exchange in exchanges:\n",
    "    all_listings.append(listings[exchange])\n",
    "    \n",
    "# Combine DataFrames\n",
    "listing_data = pd.concat(all_listings)\n",
    "\n",
    "# Select tech companies\n",
    "tech_companies = listing_data[listing_data.Sector == 'Technology']\n",
    "\n",
    "# Create ipo_years\n",
    "ipo_years = tech_companies['IPO Year']\n",
    "\n",
    "# Drop missing values and convert to int\n",
    "ipo_years = ipo_years.dropna().astype(int)\n",
    "\n",
    "# Count values, sort ascending by year, and create a bar plot\n",
    "ipo_years.value_counts(sort=True, ascending=True).plot(kind='bar', title='Tech IPOs by Year')\n",
    "\n",
    "# Rotate xticks and show result\n",
    "plt.xticks(rotation=45)\n",
    "\n",
    "# Show the plot\n",
    "plt.show()"
   ]
  }
 ],
 "metadata": {
  "colab": {
   "collapsed_sections": [],
   "name": "Welcome To Colaboratory",
   "provenance": []
  },
  "kernelspec": {
   "display_name": "Python 3",
   "language": "python",
   "name": "python3"
  },
  "language_info": {
   "codemirror_mode": {
    "name": "ipython",
    "version": 3
   },
   "file_extension": ".py",
   "mimetype": "text/x-python",
   "name": "python",
   "nbconvert_exporter": "python",
   "pygments_lexer": "ipython3",
   "version": "3.7.3"
  }
 },
 "nbformat": 4,
 "nbformat_minor": 1
}
