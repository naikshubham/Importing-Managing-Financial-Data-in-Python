{
 "cells": [
  {
   "cell_type": "markdown",
   "metadata": {
    "colab_type": "text",
    "id": "F3qRBbPKyZaM"
   },
   "source": [
    "# Summarizing the data with descriptive stats\n",
    "- Goal is to capture key quantative characteristics which allows us to better understand and manage the data\n",
    "- Important angles to look at:\n",
    "\n",
    "1) Central tendency : Which values are \"typical\" ?\n",
    "\n",
    "2) Dispersion : Are there outliers ?\n",
    "\n",
    "3) Overall distribution of individual varaibles\n"
   ]
  },
  {
   "cell_type": "markdown",
   "metadata": {
    "colab_type": "text",
    "id": "2mzC7jvi3U6w"
   },
   "source": [
    "## Central tendency\n",
    "- Mean\n",
    "- Median\n",
    "- Mode\n",
    "- In practise, for symmertric distribution these 3 measures are equal\n",
    "- Mean is more sensitive to the outliers than the median\n"
   ]
  },
  {
   "cell_type": "markdown",
   "metadata": {
    "colab_type": "text",
    "id": "PiafOurs38tD"
   },
   "source": [
    "### Calculate summary statistics"
   ]
  },
  {
   "cell_type": "code",
   "execution_count": 17,
   "metadata": {
    "colab": {},
    "colab_type": "code",
    "id": "OnqzYi2P98_x"
   },
   "outputs": [],
   "source": [
    "import pandas as pd\n",
    "import numpy as np\n",
    "import matplotlib.pyplot as plt"
   ]
  },
  {
   "cell_type": "code",
   "execution_count": 9,
   "metadata": {
    "colab": {},
    "colab_type": "code",
    "id": "_TVo6Pf1yYEY"
   },
   "outputs": [
    {
     "name": "stdout",
     "output_type": "stream",
     "text": [
      "mean -> 3180.7126214953823\n",
      "median -> 225.9684285\n",
      "mode -> 0    0.0\n",
      "dtype: float64\n"
     ]
    }
   ],
   "source": [
    "nasdaq = pd.read_excel('data/listings.xlsx', sheetname='nasdaq', na_values='n/a')\n",
    "market_cap = nasdaq['Market Capitalization'].div(10**6)\n",
    "print('mean ->', market_cap.mean())\n",
    "print('median ->', market_cap.median())\n",
    "print('mode ->', market_cap.mode())\n"
   ]
  },
  {
   "cell_type": "markdown",
   "metadata": {
    "colab_type": "text",
    "id": "WWjthEnf4qJZ"
   },
   "source": [
    "# Dispersion\n",
    "- How close the points are to the mid point.\n",
    "- To learn more about dispersion of data, we can calculate the variance & the std-deviation\n",
    "- Variance : Sum all squared differences from mean and divide by n-1\n",
    "- Standard deviation : Square root of variance (s = sqrt(var)). Just like mean this measure is more sensitive to outliers\n",
    "\n"
   ]
  },
  {
   "cell_type": "code",
   "execution_count": 10,
   "metadata": {
    "colab": {},
    "colab_type": "code",
    "id": "nVer1ORn4pF5"
   },
   "outputs": [
    {
     "name": "stdout",
     "output_type": "stream",
     "text": [
      "variance -> 648773812.8182563\n",
      "std-dev-> 25471.038707093518\n",
      "std-dev-> 25471.038707093518\n"
     ]
    }
   ],
   "source": [
    "# variance\n",
    "variance = market_cap.var()\n",
    "print('variance ->', market_cap.var())\n",
    "print('std-dev->', market_cap.std())\n",
    "print('std-dev->', np.sqrt(variance))"
   ]
  },
  {
   "cell_type": "markdown",
   "metadata": {
    "colab_type": "text",
    "id": "CNRwV01767u6"
   },
   "source": [
    "# Describe the distribution of data with Quantiles"
   ]
  },
  {
   "cell_type": "markdown",
   "metadata": {
    "colab_type": "text",
    "id": "IjufErE96_9C"
   },
   "source": [
    "### More on Dispersion : Quantiles\n",
    "- Quantiles are measures of dispersion which are more robust to outliers.\n",
    "- **Quantiles** - Groups with equal shares of observations\n",
    "- Divides data into 4 groups each contains 25%\n",
    "- **Deciles** : 10 groups, 10% of data each\n",
    "- Interquartile range : 3rd quartile - 1st quartile"
   ]
  },
  {
   "cell_type": "code",
   "execution_count": 12,
   "metadata": {
    "colab": {
     "base_uri": "https://localhost:8080/",
     "height": 200
    },
    "colab_type": "code",
    "id": "-z5j_nJn5wFp",
    "outputId": "82eaf289-9fbb-4532-c28c-6e2087fc7b9d"
   },
   "outputs": [
    {
     "name": "stdout",
     "output_type": "stream",
     "text": [
      "True\n"
     ]
    }
   ],
   "source": [
    "# quantiles with pandas\n",
    "median = market_cap.quantile(.5)\n",
    "print(median == market_cap.median())"
   ]
  },
  {
   "cell_type": "code",
   "execution_count": 13,
   "metadata": {
    "colab": {},
    "colab_type": "code",
    "id": "IdsJQUQz-x8y"
   },
   "outputs": [
    {
     "name": "stdout",
     "output_type": "stream",
     "text": [
      "926.5292771575\n"
     ]
    }
   ],
   "source": [
    "quantiles = market_cap.quantile([.25, .75])\n",
    "print(quantiles[.75] - quantiles[.25]) # interquantile range"
   ]
  },
  {
   "cell_type": "code",
   "execution_count": 14,
   "metadata": {
    "colab": {},
    "colab_type": "code",
    "id": "Y7Ag6rZk_Mmt"
   },
   "outputs": [
    {
     "data": {
      "text/plain": [
       "0.1       4.884565\n",
       "0.2      26.993382\n",
       "0.3      65.714547\n",
       "0.4     124.320644\n",
       "0.5     225.968428\n",
       "0.6     402.469678\n",
       "0.7     723.163197\n",
       "0.8    1441.071134\n",
       "0.9    3671.499558\n",
       "Name: Market Capitalization, dtype: float64"
      ]
     },
     "execution_count": 14,
     "metadata": {},
     "output_type": "execute_result"
    }
   ],
   "source": [
    "deciles = np.arange(start=.1, stop=.91, step=.1)\n",
    "market_cap.quantile(deciles)"
   ]
  },
  {
   "cell_type": "markdown",
   "metadata": {
    "colab_type": "text",
    "id": "hzMdT73D_oE0"
   },
   "source": [
    "## Visualize quantiles with bar chart"
   ]
  },
  {
   "cell_type": "code",
   "execution_count": 18,
   "metadata": {
    "colab": {},
    "colab_type": "code",
    "id": "94IOT9OW_kOt"
   },
   "outputs": [
    {
     "data": {
      "image/png": "[encoded data removed]",
      "text/plain": [
       "<Figure size 432x288 with 1 Axes>"
      ]
     },
     "metadata": {
      "needs_background": "light"
     },
     "output_type": "display_data"
    }
   ],
   "source": [
    "title = 'NASDAQ Market Capitalization(million USD)'\n",
    "market_cap.quantile(deciles).plot(kind='bar', title=title)\n",
    "plt.tight_layout()\n",
    "plt.show()"
   ]
  },
  {
   "cell_type": "markdown",
   "metadata": {
    "colab_type": "text",
    "id": "rV8bGfK-__XI"
   },
   "source": [
    "## All statistics in one go|"
   ]
  },
  {
   "cell_type": "code",
   "execution_count": 19,
   "metadata": {
    "colab": {},
    "colab_type": "code",
    "id": "Ass4-7XOADXl"
   },
   "outputs": [
    {
     "data": {
      "text/plain": [
       "count      3167.000000\n",
       "mean       3180.712621\n",
       "std       25471.038707\n",
       "min           0.000000\n",
       "25%          43.375930\n",
       "50%         225.968428\n",
       "75%         969.905207\n",
       "max      740024.467000\n",
       "Name: Market Capitalization, dtype: float64"
      ]
     },
     "execution_count": 19,
     "metadata": {},
     "output_type": "execute_result"
    }
   ],
   "source": [
    "market_cap.describe()"
   ]
  }
 ],
 "metadata": {
  "colab": {
   "collapsed_sections": [],
   "name": "Welcome To Colaboratory",
   "provenance": []
  },
  "kernelspec": {
   "display_name": "Python 3",
   "language": "python",
   "name": "python3"
  },
  "language_info": {
   "codemirror_mode": {
    "name": "ipython",
    "version": 3
   },
   "file_extension": ".py",
   "mimetype": "text/x-python",
   "name": "python",
   "nbconvert_exporter": "python",
   "pygments_lexer": "ipython3",
   "version": "3.7.3"
  }
 },
 "nbformat": 4,
 "nbformat_minor": 1
}
